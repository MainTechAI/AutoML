{
 "cells": [
  {
   "cell_type": "code",
   "execution_count": 9,
   "outputs": [],
   "source": [
    "import openml\n",
    "import numpy as np\n",
    "import pandas as pd\n",
    "import pickle\n",
    "import json"
   ],
   "metadata": {
    "collapsed": false,
    "pycharm": {
     "name": "#%%\n"
    }
   }
  },
  {
   "cell_type": "code",
   "execution_count": 10,
   "outputs": [],
   "source": [
    "path = r'C:\\Users\\Trogwald\\Desktop\\push_it\\AutoML\\meta_learning\\util\\\\'"
   ],
   "metadata": {
    "collapsed": false,
    "pycharm": {
     "name": "#%%\n"
    }
   }
  },
  {
   "cell_type": "markdown",
   "source": [
    "# 1. Filter flows. Create df_all_flows.pkl and df_sklearn_flows.pkl (DONE)"
   ],
   "metadata": {
    "collapsed": false,
    "pycharm": {
     "name": "#%% md\n"
    }
   }
  },
  {
   "cell_type": "code",
   "execution_count": 11,
   "outputs": [
    {
     "data": {
      "text/plain": "          id                                          full_name  \\\n0          1           openml.evaluation.EuclideanDistance(1.0)   \n1          2            openml.evaluation.PolynomialKernel(1.0)   \n2          3                   openml.evaluation.RBFKernel(1.0)   \n3          4        openml.evaluation.area_under_roc_curve(1.0)   \n4          5                openml.evaluation.average_cost(1.0)   \n...      ...                                                ...   \n16368  19195             sklearn.impute._base.SimpleImputer(35)   \n16369  19196   sklearn.tree._classes.DecisionTreeClassifier(30)   \n16370  19197                       sklearn.svm._classes.SVC(12)   \n16371  19198  sklearn.neighbors._classification.KNeighborsCl...   \n16372  19199  sklearn.neural_network._multilayer_perceptron....   \n\n                                                    name version  \\\n0                    openml.evaluation.EuclideanDistance       1   \n1                     openml.evaluation.PolynomialKernel       1   \n2                            openml.evaluation.RBFKernel       1   \n3                 openml.evaluation.area_under_roc_curve       1   \n4                         openml.evaluation.average_cost       1   \n...                                                  ...     ...   \n16368                 sklearn.impute._base.SimpleImputer      35   \n16369       sklearn.tree._classes.DecisionTreeClassifier      30   \n16370                           sklearn.svm._classes.SVC      12   \n16371  sklearn.neighbors._classification.KNeighborsCl...      15   \n16372  sklearn.neural_network._multilayer_perceptron....       2   \n\n                    external_version uploader  \n0                                           1  \n1                                           1  \n2                                           1  \n3                                           1  \n4                                           1  \n...                              ...      ...  \n16368  openml==0.12.2,sklearn==1.1.3    32759  \n16369  openml==0.12.2,sklearn==1.1.3    32759  \n16370  openml==0.12.2,sklearn==1.1.3    30495  \n16371  openml==0.12.2,sklearn==1.1.3    30495  \n16372  openml==0.12.2,sklearn==1.1.3    30495  \n\n[16373 rows x 6 columns]",
      "text/html": "<div>\n<style scoped>\n    .dataframe tbody tr th:only-of-type {\n        vertical-align: middle;\n    }\n\n    .dataframe tbody tr th {\n        vertical-align: top;\n    }\n\n    .dataframe thead th {\n        text-align: right;\n    }\n</style>\n<table border=\"1\" class=\"dataframe\">\n  <thead>\n    <tr style=\"text-align: right;\">\n      <th></th>\n      <th>id</th>\n      <th>full_name</th>\n      <th>name</th>\n      <th>version</th>\n      <th>external_version</th>\n      <th>uploader</th>\n    </tr>\n  </thead>\n  <tbody>\n    <tr>\n      <th>0</th>\n      <td>1</td>\n      <td>openml.evaluation.EuclideanDistance(1.0)</td>\n      <td>openml.evaluation.EuclideanDistance</td>\n      <td>1</td>\n      <td></td>\n      <td>1</td>\n    </tr>\n    <tr>\n      <th>1</th>\n      <td>2</td>\n      <td>openml.evaluation.PolynomialKernel(1.0)</td>\n      <td>openml.evaluation.PolynomialKernel</td>\n      <td>1</td>\n      <td></td>\n      <td>1</td>\n    </tr>\n    <tr>\n      <th>2</th>\n      <td>3</td>\n      <td>openml.evaluation.RBFKernel(1.0)</td>\n      <td>openml.evaluation.RBFKernel</td>\n      <td>1</td>\n      <td></td>\n      <td>1</td>\n    </tr>\n    <tr>\n      <th>3</th>\n      <td>4</td>\n      <td>openml.evaluation.area_under_roc_curve(1.0)</td>\n      <td>openml.evaluation.area_under_roc_curve</td>\n      <td>1</td>\n      <td></td>\n      <td>1</td>\n    </tr>\n    <tr>\n      <th>4</th>\n      <td>5</td>\n      <td>openml.evaluation.average_cost(1.0)</td>\n      <td>openml.evaluation.average_cost</td>\n      <td>1</td>\n      <td></td>\n      <td>1</td>\n    </tr>\n    <tr>\n      <th>...</th>\n      <td>...</td>\n      <td>...</td>\n      <td>...</td>\n      <td>...</td>\n      <td>...</td>\n      <td>...</td>\n    </tr>\n    <tr>\n      <th>16368</th>\n      <td>19195</td>\n      <td>sklearn.impute._base.SimpleImputer(35)</td>\n      <td>sklearn.impute._base.SimpleImputer</td>\n      <td>35</td>\n      <td>openml==0.12.2,sklearn==1.1.3</td>\n      <td>32759</td>\n    </tr>\n    <tr>\n      <th>16369</th>\n      <td>19196</td>\n      <td>sklearn.tree._classes.DecisionTreeClassifier(30)</td>\n      <td>sklearn.tree._classes.DecisionTreeClassifier</td>\n      <td>30</td>\n      <td>openml==0.12.2,sklearn==1.1.3</td>\n      <td>32759</td>\n    </tr>\n    <tr>\n      <th>16370</th>\n      <td>19197</td>\n      <td>sklearn.svm._classes.SVC(12)</td>\n      <td>sklearn.svm._classes.SVC</td>\n      <td>12</td>\n      <td>openml==0.12.2,sklearn==1.1.3</td>\n      <td>30495</td>\n    </tr>\n    <tr>\n      <th>16371</th>\n      <td>19198</td>\n      <td>sklearn.neighbors._classification.KNeighborsCl...</td>\n      <td>sklearn.neighbors._classification.KNeighborsCl...</td>\n      <td>15</td>\n      <td>openml==0.12.2,sklearn==1.1.3</td>\n      <td>30495</td>\n    </tr>\n    <tr>\n      <th>16372</th>\n      <td>19199</td>\n      <td>sklearn.neural_network._multilayer_perceptron....</td>\n      <td>sklearn.neural_network._multilayer_perceptron....</td>\n      <td>2</td>\n      <td>openml==0.12.2,sklearn==1.1.3</td>\n      <td>30495</td>\n    </tr>\n  </tbody>\n</table>\n<p>16373 rows × 6 columns</p>\n</div>"
     },
     "execution_count": 11,
     "metadata": {},
     "output_type": "execute_result"
    }
   ],
   "source": [
    "# download and save\n",
    "#flows_list = openml.flows.list_flows(output_format='dataframe')\n",
    "#flows_list.external_version.fillna('', inplace=True)\n",
    "#flows_list.to_pickle(path+'df_all_flows.pkl')\n",
    "\n",
    "# then load\n",
    "flows_list = pd.read_pickle(path+'df_all_flows.pkl')\n",
    "# 16373 the total number of flows on OpenML\n",
    "flows_list"
   ],
   "metadata": {
    "collapsed": false,
    "pycharm": {
     "name": "#%%\n"
    }
   }
  },
  {
   "cell_type": "code",
   "execution_count": 12,
   "outputs": [
    {
     "data": {
      "text/plain": "          id                                          full_name  \\\n1559    2629  sklearn.ensemble.forest.RandomForestClassifier(8)   \n1560    2638  sklearn.ensemble.forest.RandomForestClassifier(9)   \n1619    2799  sklearn.ensemble.forest.RandomForestClassifier...   \n1621    2823  sklearn.ensemble.forest.RandomForestClassifier...   \n1622    2856  sklearn.linear_model.logistic.LogisticRegressi...   \n...      ...                                                ...   \n16368  19195             sklearn.impute._base.SimpleImputer(35)   \n16369  19196   sklearn.tree._classes.DecisionTreeClassifier(30)   \n16370  19197                       sklearn.svm._classes.SVC(12)   \n16371  19198  sklearn.neighbors._classification.KNeighborsCl...   \n16372  19199  sklearn.neural_network._multilayer_perceptron....   \n\n                                                    name version  \\\n1559      sklearn.ensemble.forest.RandomForestClassifier       8   \n1560      sklearn.ensemble.forest.RandomForestClassifier       9   \n1619      sklearn.ensemble.forest.RandomForestClassifier      10   \n1621      sklearn.ensemble.forest.RandomForestClassifier      11   \n1622    sklearn.linear_model.logistic.LogisticRegression       1   \n...                                                  ...     ...   \n16368                 sklearn.impute._base.SimpleImputer      35   \n16369       sklearn.tree._classes.DecisionTreeClassifier      30   \n16370                           sklearn.svm._classes.SVC      12   \n16371  sklearn.neighbors._classification.KNeighborsCl...      15   \n16372  sklearn.neural_network._multilayer_perceptron....       2   \n\n                    external_version uploader  \n1559                   Tsklearn_0.17      869  \n1560                 Tsklearn_0.16.1        2  \n1619                 Tsklearn_0.17.1        2  \n1621              Tsklearn_0.18.dev0     1140  \n1622              Tsklearn_0.18.dev0     1140  \n...                              ...      ...  \n16368  openml==0.12.2,sklearn==1.1.3    32759  \n16369  openml==0.12.2,sklearn==1.1.3    32759  \n16370  openml==0.12.2,sklearn==1.1.3    30495  \n16371  openml==0.12.2,sklearn==1.1.3    30495  \n16372  openml==0.12.2,sklearn==1.1.3    30495  \n\n[10193 rows x 6 columns]",
      "text/html": "<div>\n<style scoped>\n    .dataframe tbody tr th:only-of-type {\n        vertical-align: middle;\n    }\n\n    .dataframe tbody tr th {\n        vertical-align: top;\n    }\n\n    .dataframe thead th {\n        text-align: right;\n    }\n</style>\n<table border=\"1\" class=\"dataframe\">\n  <thead>\n    <tr style=\"text-align: right;\">\n      <th></th>\n      <th>id</th>\n      <th>full_name</th>\n      <th>name</th>\n      <th>version</th>\n      <th>external_version</th>\n      <th>uploader</th>\n    </tr>\n  </thead>\n  <tbody>\n    <tr>\n      <th>1559</th>\n      <td>2629</td>\n      <td>sklearn.ensemble.forest.RandomForestClassifier(8)</td>\n      <td>sklearn.ensemble.forest.RandomForestClassifier</td>\n      <td>8</td>\n      <td>Tsklearn_0.17</td>\n      <td>869</td>\n    </tr>\n    <tr>\n      <th>1560</th>\n      <td>2638</td>\n      <td>sklearn.ensemble.forest.RandomForestClassifier(9)</td>\n      <td>sklearn.ensemble.forest.RandomForestClassifier</td>\n      <td>9</td>\n      <td>Tsklearn_0.16.1</td>\n      <td>2</td>\n    </tr>\n    <tr>\n      <th>1619</th>\n      <td>2799</td>\n      <td>sklearn.ensemble.forest.RandomForestClassifier...</td>\n      <td>sklearn.ensemble.forest.RandomForestClassifier</td>\n      <td>10</td>\n      <td>Tsklearn_0.17.1</td>\n      <td>2</td>\n    </tr>\n    <tr>\n      <th>1621</th>\n      <td>2823</td>\n      <td>sklearn.ensemble.forest.RandomForestClassifier...</td>\n      <td>sklearn.ensemble.forest.RandomForestClassifier</td>\n      <td>11</td>\n      <td>Tsklearn_0.18.dev0</td>\n      <td>1140</td>\n    </tr>\n    <tr>\n      <th>1622</th>\n      <td>2856</td>\n      <td>sklearn.linear_model.logistic.LogisticRegressi...</td>\n      <td>sklearn.linear_model.logistic.LogisticRegression</td>\n      <td>1</td>\n      <td>Tsklearn_0.18.dev0</td>\n      <td>1140</td>\n    </tr>\n    <tr>\n      <th>...</th>\n      <td>...</td>\n      <td>...</td>\n      <td>...</td>\n      <td>...</td>\n      <td>...</td>\n      <td>...</td>\n    </tr>\n    <tr>\n      <th>16368</th>\n      <td>19195</td>\n      <td>sklearn.impute._base.SimpleImputer(35)</td>\n      <td>sklearn.impute._base.SimpleImputer</td>\n      <td>35</td>\n      <td>openml==0.12.2,sklearn==1.1.3</td>\n      <td>32759</td>\n    </tr>\n    <tr>\n      <th>16369</th>\n      <td>19196</td>\n      <td>sklearn.tree._classes.DecisionTreeClassifier(30)</td>\n      <td>sklearn.tree._classes.DecisionTreeClassifier</td>\n      <td>30</td>\n      <td>openml==0.12.2,sklearn==1.1.3</td>\n      <td>32759</td>\n    </tr>\n    <tr>\n      <th>16370</th>\n      <td>19197</td>\n      <td>sklearn.svm._classes.SVC(12)</td>\n      <td>sklearn.svm._classes.SVC</td>\n      <td>12</td>\n      <td>openml==0.12.2,sklearn==1.1.3</td>\n      <td>30495</td>\n    </tr>\n    <tr>\n      <th>16371</th>\n      <td>19198</td>\n      <td>sklearn.neighbors._classification.KNeighborsCl...</td>\n      <td>sklearn.neighbors._classification.KNeighborsCl...</td>\n      <td>15</td>\n      <td>openml==0.12.2,sklearn==1.1.3</td>\n      <td>30495</td>\n    </tr>\n    <tr>\n      <th>16372</th>\n      <td>19199</td>\n      <td>sklearn.neural_network._multilayer_perceptron....</td>\n      <td>sklearn.neural_network._multilayer_perceptron....</td>\n      <td>2</td>\n      <td>openml==0.12.2,sklearn==1.1.3</td>\n      <td>30495</td>\n    </tr>\n  </tbody>\n</table>\n<p>10193 rows × 6 columns</p>\n</div>"
     },
     "execution_count": 12,
     "metadata": {},
     "output_type": "execute_result"
    }
   ],
   "source": [
    "# all flows that related to SKLEARN\n",
    "sklearn_flows = flows_list[\n",
    "    # Filter other packages. I need only sklearn\n",
    "    ~flows_list['external_version'].str.contains('^R_*|^Weka_*|^Moa_*',regex=True,case=True) &\n",
    "    ~flows_list['name'].str.contains('^torch.nn*',regex=True,case=True) &\n",
    "    ~flows_list['name'].str.contains('^classif.*',regex=True,case=True) &\n",
    "    ~flows_list['name'].str.contains('^weka.*',regex=True,case=True) &\n",
    "    ~flows_list['name'].str.contains('^mlr.*',regex=True,case=True) &\n",
    "\n",
    "    # Don't need those algorithms\n",
    "    ~flows_list['name'].str.contains('^sklearn.svm.*classes.NuSVC',regex=True, case=False) &\n",
    "\n",
    "    # They might be useful if there is no single model. At least you can extract something from them.\n",
    "    #~flows_list['name'].str.contains('voting.*classifier',regex=True, case=False) &\n",
    "    #~flows_list['name'].str.contains('VotingClassifier',regex=False, case=False) &\n",
    "    #~flows_list['name'].str.contains('BaggingClassifier',regex=False, case=False) &\n",
    "    #~flows_list['name'].str.contains('pipeline',case=False) & # remove Pipelines\n",
    "\n",
    "    (\n",
    "    flows_list['name'].str.contains('^sklearn.*',regex=True,case=True) | # remove ?\n",
    "    flows_list['name'].str.contains('xgboost.sklearn.XGBClassifier',regex=True,case=True) | # remove ?\n",
    "    flows_list['external_version'].str.contains('.*sklearn.*',regex=True,case=True) # remove ?\n",
    "    )\n",
    "\n",
    "]\n",
    "\n",
    "FLOW_IDS_ALLOWED = sklearn_flows.id.values.tolist()\n",
    "\n",
    "sklearn_flows.to_pickle(path+'df_sklearn_flows.pkl')\n",
    "sklearn_flows\n",
    "# 10193 / 6\n",
    "\n",
    "#  flags=re.IGNORECASE"
   ],
   "metadata": {
    "collapsed": false,
    "pycharm": {
     "name": "#%%\n"
    }
   }
  },
  {
   "cell_type": "markdown",
   "source": [
    "### further filtering of evals (by model)"
   ],
   "metadata": {
    "collapsed": false,
    "pycharm": {
     "name": "#%% md\n"
    }
   }
  },
  {
   "cell_type": "code",
   "execution_count": 13,
   "outputs": [
    {
     "data": {
      "text/plain": "          id                                          full_name  \\\n1662    3414  sklearn.ensemble.weight_boosting.AdaBoostClass...   \n1663    3415  sklearn.ensemble.weight_boosting.AdaBoostClass...   \n1684    3439  sklearn.ensemble.weight_boosting.AdaBoostClass...   \n1860    3717  325b3936TESTSENTINEL999sklearn.pipeline.Pipeli...   \n1866    3723  325b3936TESTSENTINEL999sklearn.ensemble.weight...   \n...      ...                                                ...   \n16168  18972  sklearn.pipeline.Pipeline(columntransformer=sk...   \n16169  18973  sklearn.ensemble.weight_boosting.AdaBoostClass...   \n16341  19168  sklearn.pipeline.Pipeline(numerical=sklearn.pi...   \n16342  19169  sklearn.ensemble._weight_boosting.AdaBoostClas...   \n16357  19184  sklearn.ensemble._weight_boosting.AdaBoostClas...   \n\n                                                    name version  \\\n1662   sklearn.ensemble.weight_boosting.AdaBoostClass...       1   \n1663   sklearn.ensemble.weight_boosting.AdaBoostClass...       2   \n1684   sklearn.ensemble.weight_boosting.AdaBoostClass...       3   \n1860   325b3936TESTSENTINEL999sklearn.pipeline.Pipeli...       1   \n1866   325b3936TESTSENTINEL999sklearn.ensemble.weight...       1   \n...                                                  ...     ...   \n16168  sklearn.pipeline.Pipeline(columntransformer=sk...       3   \n16169  sklearn.ensemble.weight_boosting.AdaBoostClass...      16   \n16341  sklearn.pipeline.Pipeline(numerical=sklearn.pi...       1   \n16342  sklearn.ensemble._weight_boosting.AdaBoostClas...       3   \n16357  sklearn.ensemble._weight_boosting.AdaBoostClas...       4   \n\n                     external_version uploader  \n1662                    Tsklearn_0.17      869  \n1663                  Tsklearn_0.17.1      901  \n1684               Tsklearn_0.18.dev0     1035  \n1860                sklearn_0.18.dev0        2  \n1866                sklearn_0.18.dev0        2  \n...                               ...      ...  \n16168  openml==0.12.2,sklearn==0.20.0     6691  \n16169  openml==0.12.2,sklearn==0.20.0     6691  \n16341   openml==0.12.2,sklearn==1.0.2    32117  \n16342   openml==0.12.2,sklearn==1.0.2    32117  \n16357   openml==0.12.2,sklearn==1.1.2    30495  \n\n[198 rows x 6 columns]",
      "text/html": "<div>\n<style scoped>\n    .dataframe tbody tr th:only-of-type {\n        vertical-align: middle;\n    }\n\n    .dataframe tbody tr th {\n        vertical-align: top;\n    }\n\n    .dataframe thead th {\n        text-align: right;\n    }\n</style>\n<table border=\"1\" class=\"dataframe\">\n  <thead>\n    <tr style=\"text-align: right;\">\n      <th></th>\n      <th>id</th>\n      <th>full_name</th>\n      <th>name</th>\n      <th>version</th>\n      <th>external_version</th>\n      <th>uploader</th>\n    </tr>\n  </thead>\n  <tbody>\n    <tr>\n      <th>1662</th>\n      <td>3414</td>\n      <td>sklearn.ensemble.weight_boosting.AdaBoostClass...</td>\n      <td>sklearn.ensemble.weight_boosting.AdaBoostClass...</td>\n      <td>1</td>\n      <td>Tsklearn_0.17</td>\n      <td>869</td>\n    </tr>\n    <tr>\n      <th>1663</th>\n      <td>3415</td>\n      <td>sklearn.ensemble.weight_boosting.AdaBoostClass...</td>\n      <td>sklearn.ensemble.weight_boosting.AdaBoostClass...</td>\n      <td>2</td>\n      <td>Tsklearn_0.17.1</td>\n      <td>901</td>\n    </tr>\n    <tr>\n      <th>1684</th>\n      <td>3439</td>\n      <td>sklearn.ensemble.weight_boosting.AdaBoostClass...</td>\n      <td>sklearn.ensemble.weight_boosting.AdaBoostClass...</td>\n      <td>3</td>\n      <td>Tsklearn_0.18.dev0</td>\n      <td>1035</td>\n    </tr>\n    <tr>\n      <th>1860</th>\n      <td>3717</td>\n      <td>325b3936TESTSENTINEL999sklearn.pipeline.Pipeli...</td>\n      <td>325b3936TESTSENTINEL999sklearn.pipeline.Pipeli...</td>\n      <td>1</td>\n      <td>sklearn_0.18.dev0</td>\n      <td>2</td>\n    </tr>\n    <tr>\n      <th>1866</th>\n      <td>3723</td>\n      <td>325b3936TESTSENTINEL999sklearn.ensemble.weight...</td>\n      <td>325b3936TESTSENTINEL999sklearn.ensemble.weight...</td>\n      <td>1</td>\n      <td>sklearn_0.18.dev0</td>\n      <td>2</td>\n    </tr>\n    <tr>\n      <th>...</th>\n      <td>...</td>\n      <td>...</td>\n      <td>...</td>\n      <td>...</td>\n      <td>...</td>\n      <td>...</td>\n    </tr>\n    <tr>\n      <th>16168</th>\n      <td>18972</td>\n      <td>sklearn.pipeline.Pipeline(columntransformer=sk...</td>\n      <td>sklearn.pipeline.Pipeline(columntransformer=sk...</td>\n      <td>3</td>\n      <td>openml==0.12.2,sklearn==0.20.0</td>\n      <td>6691</td>\n    </tr>\n    <tr>\n      <th>16169</th>\n      <td>18973</td>\n      <td>sklearn.ensemble.weight_boosting.AdaBoostClass...</td>\n      <td>sklearn.ensemble.weight_boosting.AdaBoostClass...</td>\n      <td>16</td>\n      <td>openml==0.12.2,sklearn==0.20.0</td>\n      <td>6691</td>\n    </tr>\n    <tr>\n      <th>16341</th>\n      <td>19168</td>\n      <td>sklearn.pipeline.Pipeline(numerical=sklearn.pi...</td>\n      <td>sklearn.pipeline.Pipeline(numerical=sklearn.pi...</td>\n      <td>1</td>\n      <td>openml==0.12.2,sklearn==1.0.2</td>\n      <td>32117</td>\n    </tr>\n    <tr>\n      <th>16342</th>\n      <td>19169</td>\n      <td>sklearn.ensemble._weight_boosting.AdaBoostClas...</td>\n      <td>sklearn.ensemble._weight_boosting.AdaBoostClas...</td>\n      <td>3</td>\n      <td>openml==0.12.2,sklearn==1.0.2</td>\n      <td>32117</td>\n    </tr>\n    <tr>\n      <th>16357</th>\n      <td>19184</td>\n      <td>sklearn.ensemble._weight_boosting.AdaBoostClas...</td>\n      <td>sklearn.ensemble._weight_boosting.AdaBoostClas...</td>\n      <td>4</td>\n      <td>openml==0.12.2,sklearn==1.1.2</td>\n      <td>30495</td>\n    </tr>\n  </tbody>\n</table>\n<p>198 rows × 6 columns</p>\n</div>"
     },
     "execution_count": 13,
     "metadata": {},
     "output_type": "execute_result"
    }
   ],
   "source": [
    "#~sklearn_flows['name'].str.contains('SVC',regex=False,case=False)\n",
    "\n",
    "svm_flows = sklearn_flows[\n",
    "    sklearn_flows['name'].str.contains('AdaBoostClassifier',regex=False,case=False)\n",
    "]\n",
    "svm_flows\n",
    "#randomforest_flows.to_pickle(path+'df_randomforest_all_flows.pkl')\n"
   ],
   "metadata": {
    "collapsed": false,
    "pycharm": {
     "name": "#%%\n"
    }
   }
  },
  {
   "cell_type": "code",
   "execution_count": 554,
   "outputs": [
    {
     "data": {
      "text/plain": "          id                                          full_name  \\\n1671    3425  sklearn.neural_network.multilayer_perceptron.M...   \n3375    5867  sklearn.pipeline.Pipeline(Imputer=openml.utils...   \n3376    5868  sklearn.model_selection._search.RandomizedSear...   \n3377    5869  sklearn.neural_network.multilayer_perceptron.M...   \n4042    6538  sklearn.pipeline.Pipeline(standardscaler=sklea...   \n...      ...                                                ...   \n16176  18980  sklearn.pipeline.Pipeline(columntransformer=sk...   \n16177  18981  sklearn.neural_network.multilayer_perceptron.M...   \n16349  19176  sklearn.pipeline.Pipeline(numerical=sklearn.pi...   \n16350  19177  sklearn.neural_network._multilayer_perceptron....   \n16372  19199  sklearn.neural_network._multilayer_perceptron....   \n\n                                                    name version  \\\n1671   sklearn.neural_network.multilayer_perceptron.M...       1   \n3375   sklearn.pipeline.Pipeline(Imputer=openml.utils...       1   \n3376   sklearn.model_selection._search.RandomizedSear...       1   \n3377   sklearn.neural_network.multilayer_perceptron.M...       2   \n4042   sklearn.pipeline.Pipeline(standardscaler=sklea...       1   \n...                                                  ...     ...   \n16176  sklearn.pipeline.Pipeline(columntransformer=sk...       2   \n16177  sklearn.neural_network.multilayer_perceptron.M...      20   \n16349  sklearn.pipeline.Pipeline(numerical=sklearn.pi...       1   \n16350  sklearn.neural_network._multilayer_perceptron....       1   \n16372  sklearn.neural_network._multilayer_perceptron....       2   \n\n                     external_version uploader  \n1671               Tsklearn_0.18.dev0     1035  \n3375      openml==0.2.1,sklearn==0.18        1  \n3376                    sklearn==0.18        1  \n3377                    sklearn==0.18        1  \n4042                  sklearn==0.18.1     1104  \n...                               ...      ...  \n16176  openml==0.12.2,sklearn==0.20.0     6691  \n16177  openml==0.12.2,sklearn==0.20.0     6691  \n16349   openml==0.12.2,sklearn==1.0.2    32117  \n16350   openml==0.12.2,sklearn==1.0.2    32117  \n16372   openml==0.12.2,sklearn==1.1.3    30495  \n\n[62 rows x 6 columns]",
      "text/html": "<div>\n<style scoped>\n    .dataframe tbody tr th:only-of-type {\n        vertical-align: middle;\n    }\n\n    .dataframe tbody tr th {\n        vertical-align: top;\n    }\n\n    .dataframe thead th {\n        text-align: right;\n    }\n</style>\n<table border=\"1\" class=\"dataframe\">\n  <thead>\n    <tr style=\"text-align: right;\">\n      <th></th>\n      <th>id</th>\n      <th>full_name</th>\n      <th>name</th>\n      <th>version</th>\n      <th>external_version</th>\n      <th>uploader</th>\n    </tr>\n  </thead>\n  <tbody>\n    <tr>\n      <th>1671</th>\n      <td>3425</td>\n      <td>sklearn.neural_network.multilayer_perceptron.M...</td>\n      <td>sklearn.neural_network.multilayer_perceptron.M...</td>\n      <td>1</td>\n      <td>Tsklearn_0.18.dev0</td>\n      <td>1035</td>\n    </tr>\n    <tr>\n      <th>3375</th>\n      <td>5867</td>\n      <td>sklearn.pipeline.Pipeline(Imputer=openml.utils...</td>\n      <td>sklearn.pipeline.Pipeline(Imputer=openml.utils...</td>\n      <td>1</td>\n      <td>openml==0.2.1,sklearn==0.18</td>\n      <td>1</td>\n    </tr>\n    <tr>\n      <th>3376</th>\n      <td>5868</td>\n      <td>sklearn.model_selection._search.RandomizedSear...</td>\n      <td>sklearn.model_selection._search.RandomizedSear...</td>\n      <td>1</td>\n      <td>sklearn==0.18</td>\n      <td>1</td>\n    </tr>\n    <tr>\n      <th>3377</th>\n      <td>5869</td>\n      <td>sklearn.neural_network.multilayer_perceptron.M...</td>\n      <td>sklearn.neural_network.multilayer_perceptron.M...</td>\n      <td>2</td>\n      <td>sklearn==0.18</td>\n      <td>1</td>\n    </tr>\n    <tr>\n      <th>4042</th>\n      <td>6538</td>\n      <td>sklearn.pipeline.Pipeline(standardscaler=sklea...</td>\n      <td>sklearn.pipeline.Pipeline(standardscaler=sklea...</td>\n      <td>1</td>\n      <td>sklearn==0.18.1</td>\n      <td>1104</td>\n    </tr>\n    <tr>\n      <th>...</th>\n      <td>...</td>\n      <td>...</td>\n      <td>...</td>\n      <td>...</td>\n      <td>...</td>\n      <td>...</td>\n    </tr>\n    <tr>\n      <th>16176</th>\n      <td>18980</td>\n      <td>sklearn.pipeline.Pipeline(columntransformer=sk...</td>\n      <td>sklearn.pipeline.Pipeline(columntransformer=sk...</td>\n      <td>2</td>\n      <td>openml==0.12.2,sklearn==0.20.0</td>\n      <td>6691</td>\n    </tr>\n    <tr>\n      <th>16177</th>\n      <td>18981</td>\n      <td>sklearn.neural_network.multilayer_perceptron.M...</td>\n      <td>sklearn.neural_network.multilayer_perceptron.M...</td>\n      <td>20</td>\n      <td>openml==0.12.2,sklearn==0.20.0</td>\n      <td>6691</td>\n    </tr>\n    <tr>\n      <th>16349</th>\n      <td>19176</td>\n      <td>sklearn.pipeline.Pipeline(numerical=sklearn.pi...</td>\n      <td>sklearn.pipeline.Pipeline(numerical=sklearn.pi...</td>\n      <td>1</td>\n      <td>openml==0.12.2,sklearn==1.0.2</td>\n      <td>32117</td>\n    </tr>\n    <tr>\n      <th>16350</th>\n      <td>19177</td>\n      <td>sklearn.neural_network._multilayer_perceptron....</td>\n      <td>sklearn.neural_network._multilayer_perceptron....</td>\n      <td>1</td>\n      <td>openml==0.12.2,sklearn==1.0.2</td>\n      <td>32117</td>\n    </tr>\n    <tr>\n      <th>16372</th>\n      <td>19199</td>\n      <td>sklearn.neural_network._multilayer_perceptron....</td>\n      <td>sklearn.neural_network._multilayer_perceptron....</td>\n      <td>2</td>\n      <td>openml==0.12.2,sklearn==1.1.3</td>\n      <td>30495</td>\n    </tr>\n  </tbody>\n</table>\n<p>62 rows × 6 columns</p>\n</div>"
     },
     "execution_count": 554,
     "metadata": {},
     "output_type": "execute_result"
    }
   ],
   "source": [
    "sklearn_flows[\n",
    "        sklearn_flows['full_name'].str.contains('MLP',regex=True,case=False) #|\n",
    "        #sklearn_flows['full_name'].str.contains('^sklearn.svm._classes.SVC',regex=True,case=False)\n",
    "    ]"
   ],
   "metadata": {
    "collapsed": false,
    "pycharm": {
     "name": "#%%\n"
    }
   }
  },
  {
   "cell_type": "code",
   "execution_count": 99,
   "outputs": [],
   "source": [
    "# 'sklearn.svm.classes.SVC' or 'sklearn.svm._classes.SVC'\n",
    "# 'sklearn.ensemble.forest.RandomForestClassifier' or 'sklearn.ensemble._forest.RandomForestClassifier'\n",
    "# 'sklearn.ensemble.weight_boosting.AdaBoostClassifier' or sklearn.ensemble._weight_boosting.AdaBoostClassifier\n",
    "# 'sklearn.neural_network.multilayer_perceptron.MLPClassifier' or 'sklearn.neural_network._multilayer_perceptron.MLPClassifier'\n",
    "'sklearn.tree.tree.DecisionTreeClassifier'\n",
    "'sklearn.ensemble.forest.ExtraTreesClassifier'\n",
    "\n",
    "'sklearn.linear_model.logistic.LogisticRegression'\n",
    "'sklearn.svm.classes.LinearSVC'\n",
    "\n",
    "'sklearn.neural_network.multilayer_perceptron.MLPClassifier'\n",
    "\n",
    "'sklearn.neighbors.classification.KNeighborsClassifier'\n",
    "'xgboost.sklearn.XGBClassifier'\n",
    "\n",
    "'BaggingClassifier'\n",
    "\n",
    "\n",
    "\n",
    "# filtered algorithms\n",
    "'sklearn.svm.classes.NuSVC'"
   ],
   "metadata": {
    "collapsed": false,
    "pycharm": {
     "name": "#%%\n"
    }
   }
  },
  {
   "cell_type": "markdown",
   "source": [
    "# evaluations_setups filtering"
   ],
   "metadata": {
    "collapsed": false,
    "pycharm": {
     "name": "#%% md\n"
    }
   }
  },
  {
   "cell_type": "code",
   "execution_count": 369,
   "outputs": [
    {
     "data": {
      "text/plain": "      run_id  task_id  setup_id  flow_id                         flow_name  \\\n0       8056        2       115       77  weka.LogitBoost_DecisionStump(1)   \n1       8309        2       116       77  weka.LogitBoost_DecisionStump(1)   \n2     158766        2       961      471  weka.LogitBoost_DecisionStump(2)   \n3     256258        2      2043     1191  weka.LogitBoost_DecisionStump(3)   \n4     286557        2      2044     1191  weka.LogitBoost_DecisionStump(3)   \n...      ...      ...       ...      ...                               ...   \n5515  178080        2      1844     1074                       weka.OLM(3)   \n5516  574159        2      2893     2257                       weka.OLM(4)   \n5517  578187        2      3714     2791                     weka.KStar(4)   \n5518   10477        2        52      130                     weka.KStar(1)   \n5519  265440        2      1875     1106                     weka.KStar(3)   \n\n      data_id data_name             function          upload_time  uploader  \\\n0           2    anneal  predictive_accuracy  2014-05-22 01:53:10         2   \n1           2    anneal  predictive_accuracy  2014-05-22 02:12:50         2   \n2           2    anneal  predictive_accuracy  2015-02-12 08:19:51         2   \n3           2    anneal  predictive_accuracy  2015-03-05 05:01:58         2   \n4           2    anneal  predictive_accuracy  2015-03-12 18:33:13         2   \n...       ...       ...                  ...                  ...       ...   \n5515        2    anneal  predictive_accuracy  2015-02-23 11:17:31         1   \n5516        2    anneal  predictive_accuracy  2016-05-31 19:51:54         1   \n5517        2    anneal  predictive_accuracy  2016-06-03 16:07:47         1   \n5518        2    anneal  predictive_accuracy  2014-05-22 06:24:25         2   \n5519        2    anneal  predictive_accuracy  2015-03-05 20:07:00         2   \n\n           uploader_name     value values array_data  \\\n0     Joaquin Vanschoren  0.996659   None       None   \n1     Joaquin Vanschoren  0.996659   None       None   \n2     Joaquin Vanschoren  0.996659   None       None   \n3     Joaquin Vanschoren  0.996659   None       None   \n4     Joaquin Vanschoren  0.996659   None       None   \n...                  ...       ...    ...        ...   \n5515        Jan van Rijn  0.329621   None       None   \n5516        Jan van Rijn  0.329621   None       None   \n5517        Jan van Rijn  0.008909   None       None   \n5518  Joaquin Vanschoren  0.008909   None       None   \n5519  Joaquin Vanschoren  0.008909   None       None   \n\n                                             parameters  \n0     {'weka.LogitBoost_DecisionStump(1)_F': '0', 'w...  \n1     {'weka.LogitBoost_DecisionStump(1)_F': '0', 'w...  \n2     {'weka.LogitBoost_DecisionStump(2)_E': '1', 'w...  \n3     {'weka.LogitBoost_DecisionStump(3)_P': '100', ...  \n4     {'weka.LogitBoost_DecisionStump(3)_P': '100', ...  \n...                                                 ...  \n5515  {'weka.OLM(3)_R': '0', 'weka.OLM(3)_C': '1', '...  \n5516  {'weka.OLM(4)_R': '0', 'weka.OLM(4)_C': '1', '...  \n5517  {'weka.KStar(4)_B': '20', 'weka.KStar(4)_M': 'a'}  \n5518  {'weka.KStar(1)_B': '20', 'weka.KStar(1)_M': 'a'}  \n5519  {'weka.KStar(3)_B': '20', 'weka.KStar(3)_M': 'a'}  \n\n[5520 rows x 15 columns]",
      "text/html": "<div>\n<style scoped>\n    .dataframe tbody tr th:only-of-type {\n        vertical-align: middle;\n    }\n\n    .dataframe tbody tr th {\n        vertical-align: top;\n    }\n\n    .dataframe thead th {\n        text-align: right;\n    }\n</style>\n<table border=\"1\" class=\"dataframe\">\n  <thead>\n    <tr style=\"text-align: right;\">\n      <th></th>\n      <th>run_id</th>\n      <th>task_id</th>\n      <th>setup_id</th>\n      <th>flow_id</th>\n      <th>flow_name</th>\n      <th>data_id</th>\n      <th>data_name</th>\n      <th>function</th>\n      <th>upload_time</th>\n      <th>uploader</th>\n      <th>uploader_name</th>\n      <th>value</th>\n      <th>values</th>\n      <th>array_data</th>\n      <th>parameters</th>\n    </tr>\n  </thead>\n  <tbody>\n    <tr>\n      <th>0</th>\n      <td>8056</td>\n      <td>2</td>\n      <td>115</td>\n      <td>77</td>\n      <td>weka.LogitBoost_DecisionStump(1)</td>\n      <td>2</td>\n      <td>anneal</td>\n      <td>predictive_accuracy</td>\n      <td>2014-05-22 01:53:10</td>\n      <td>2</td>\n      <td>Joaquin Vanschoren</td>\n      <td>0.996659</td>\n      <td>None</td>\n      <td>None</td>\n      <td>{'weka.LogitBoost_DecisionStump(1)_F': '0', 'w...</td>\n    </tr>\n    <tr>\n      <th>1</th>\n      <td>8309</td>\n      <td>2</td>\n      <td>116</td>\n      <td>77</td>\n      <td>weka.LogitBoost_DecisionStump(1)</td>\n      <td>2</td>\n      <td>anneal</td>\n      <td>predictive_accuracy</td>\n      <td>2014-05-22 02:12:50</td>\n      <td>2</td>\n      <td>Joaquin Vanschoren</td>\n      <td>0.996659</td>\n      <td>None</td>\n      <td>None</td>\n      <td>{'weka.LogitBoost_DecisionStump(1)_F': '0', 'w...</td>\n    </tr>\n    <tr>\n      <th>2</th>\n      <td>158766</td>\n      <td>2</td>\n      <td>961</td>\n      <td>471</td>\n      <td>weka.LogitBoost_DecisionStump(2)</td>\n      <td>2</td>\n      <td>anneal</td>\n      <td>predictive_accuracy</td>\n      <td>2015-02-12 08:19:51</td>\n      <td>2</td>\n      <td>Joaquin Vanschoren</td>\n      <td>0.996659</td>\n      <td>None</td>\n      <td>None</td>\n      <td>{'weka.LogitBoost_DecisionStump(2)_E': '1', 'w...</td>\n    </tr>\n    <tr>\n      <th>3</th>\n      <td>256258</td>\n      <td>2</td>\n      <td>2043</td>\n      <td>1191</td>\n      <td>weka.LogitBoost_DecisionStump(3)</td>\n      <td>2</td>\n      <td>anneal</td>\n      <td>predictive_accuracy</td>\n      <td>2015-03-05 05:01:58</td>\n      <td>2</td>\n      <td>Joaquin Vanschoren</td>\n      <td>0.996659</td>\n      <td>None</td>\n      <td>None</td>\n      <td>{'weka.LogitBoost_DecisionStump(3)_P': '100', ...</td>\n    </tr>\n    <tr>\n      <th>4</th>\n      <td>286557</td>\n      <td>2</td>\n      <td>2044</td>\n      <td>1191</td>\n      <td>weka.LogitBoost_DecisionStump(3)</td>\n      <td>2</td>\n      <td>anneal</td>\n      <td>predictive_accuracy</td>\n      <td>2015-03-12 18:33:13</td>\n      <td>2</td>\n      <td>Joaquin Vanschoren</td>\n      <td>0.996659</td>\n      <td>None</td>\n      <td>None</td>\n      <td>{'weka.LogitBoost_DecisionStump(3)_P': '100', ...</td>\n    </tr>\n    <tr>\n      <th>...</th>\n      <td>...</td>\n      <td>...</td>\n      <td>...</td>\n      <td>...</td>\n      <td>...</td>\n      <td>...</td>\n      <td>...</td>\n      <td>...</td>\n      <td>...</td>\n      <td>...</td>\n      <td>...</td>\n      <td>...</td>\n      <td>...</td>\n      <td>...</td>\n      <td>...</td>\n    </tr>\n    <tr>\n      <th>5515</th>\n      <td>178080</td>\n      <td>2</td>\n      <td>1844</td>\n      <td>1074</td>\n      <td>weka.OLM(3)</td>\n      <td>2</td>\n      <td>anneal</td>\n      <td>predictive_accuracy</td>\n      <td>2015-02-23 11:17:31</td>\n      <td>1</td>\n      <td>Jan van Rijn</td>\n      <td>0.329621</td>\n      <td>None</td>\n      <td>None</td>\n      <td>{'weka.OLM(3)_R': '0', 'weka.OLM(3)_C': '1', '...</td>\n    </tr>\n    <tr>\n      <th>5516</th>\n      <td>574159</td>\n      <td>2</td>\n      <td>2893</td>\n      <td>2257</td>\n      <td>weka.OLM(4)</td>\n      <td>2</td>\n      <td>anneal</td>\n      <td>predictive_accuracy</td>\n      <td>2016-05-31 19:51:54</td>\n      <td>1</td>\n      <td>Jan van Rijn</td>\n      <td>0.329621</td>\n      <td>None</td>\n      <td>None</td>\n      <td>{'weka.OLM(4)_R': '0', 'weka.OLM(4)_C': '1', '...</td>\n    </tr>\n    <tr>\n      <th>5517</th>\n      <td>578187</td>\n      <td>2</td>\n      <td>3714</td>\n      <td>2791</td>\n      <td>weka.KStar(4)</td>\n      <td>2</td>\n      <td>anneal</td>\n      <td>predictive_accuracy</td>\n      <td>2016-06-03 16:07:47</td>\n      <td>1</td>\n      <td>Jan van Rijn</td>\n      <td>0.008909</td>\n      <td>None</td>\n      <td>None</td>\n      <td>{'weka.KStar(4)_B': '20', 'weka.KStar(4)_M': 'a'}</td>\n    </tr>\n    <tr>\n      <th>5518</th>\n      <td>10477</td>\n      <td>2</td>\n      <td>52</td>\n      <td>130</td>\n      <td>weka.KStar(1)</td>\n      <td>2</td>\n      <td>anneal</td>\n      <td>predictive_accuracy</td>\n      <td>2014-05-22 06:24:25</td>\n      <td>2</td>\n      <td>Joaquin Vanschoren</td>\n      <td>0.008909</td>\n      <td>None</td>\n      <td>None</td>\n      <td>{'weka.KStar(1)_B': '20', 'weka.KStar(1)_M': 'a'}</td>\n    </tr>\n    <tr>\n      <th>5519</th>\n      <td>265440</td>\n      <td>2</td>\n      <td>1875</td>\n      <td>1106</td>\n      <td>weka.KStar(3)</td>\n      <td>2</td>\n      <td>anneal</td>\n      <td>predictive_accuracy</td>\n      <td>2015-03-05 20:07:00</td>\n      <td>2</td>\n      <td>Joaquin Vanschoren</td>\n      <td>0.008909</td>\n      <td>None</td>\n      <td>None</td>\n      <td>{'weka.KStar(3)_B': '20', 'weka.KStar(3)_M': 'a'}</td>\n    </tr>\n  </tbody>\n</table>\n<p>5520 rows × 15 columns</p>\n</div>"
     },
     "execution_count": 369,
     "metadata": {},
     "output_type": "execute_result"
    }
   ],
   "source": [
    "evals_tid_1 = openml.evaluations.list_evaluations_setups(\n",
    "    function='predictive_accuracy', # predictive_accuracy is mostly used in study1\n",
    "    tasks=[2],\n",
    "    sort_order = 'desc',\n",
    "    output_format = 'dataframe'\n",
    ")\n",
    "evals_tid_1"
   ],
   "metadata": {
    "collapsed": false,
    "pycharm": {
     "name": "#%%\n"
    }
   }
  },
  {
   "cell_type": "code",
   "execution_count": 398,
   "outputs": [
    {
     "data": {
      "text/plain": "      index    run_id  task_id  setup_id  flow_id  \\\n0        37  10160806        2   8086270     9689   \n1        91   1860456        2     36565     5909   \n2       175   5950015        2   3984760     6970   \n3       176   5950070        2   3984815     6970   \n4       177   4855681        2   2891090     6970   \n...     ...       ...      ...       ...      ...   \n3601   5489   5930403        2   3965152     6970   \n3602   5490   5956713        2   3991454     6970   \n3603   5491   6043409        2   4078067     6952   \n3604   5492   4970024        2   3005421     6970   \n3605   5511   6059830        2   4075685     7026   \n\n                                              flow_name  data_id data_name  \\\n0     sklearn.pipeline.Pipeline(imputer=sklearn.prep...        2    anneal   \n1     sklearn.pipeline.Pipeline(imputer=sklearn.prep...        2    anneal   \n2     sklearn.pipeline.Pipeline(imputation=openmlstu...        2    anneal   \n3     sklearn.pipeline.Pipeline(imputation=openmlstu...        2    anneal   \n4     sklearn.pipeline.Pipeline(imputation=openmlstu...        2    anneal   \n...                                                 ...      ...       ...   \n3601  sklearn.pipeline.Pipeline(imputation=openmlstu...        2    anneal   \n3602  sklearn.pipeline.Pipeline(imputation=openmlstu...        2    anneal   \n3603  sklearn.pipeline.Pipeline(imputation=openmlstu...        2    anneal   \n3604  sklearn.pipeline.Pipeline(imputation=openmlstu...        2    anneal   \n3605  sklearn.pipeline.Pipeline(Median-Imputer=sklea...        2    anneal   \n\n                 function          upload_time  uploader    uploader_name  \\\n0     predictive_accuracy  2019-04-13 06:09:08      8420              T I   \n1     predictive_accuracy  2017-03-27 22:32:43      1022     Randal Olson   \n2     predictive_accuracy  2017-07-14 15:39:47         1     Jan van Rijn   \n3     predictive_accuracy  2017-07-14 15:43:34         1     Jan van Rijn   \n4     predictive_accuracy  2017-07-08 06:43:16         1     Jan van Rijn   \n...                   ...                  ...       ...              ...   \n3601  predictive_accuracy  2017-07-14 01:15:43         1     Jan van Rijn   \n3602  predictive_accuracy  2017-07-14 23:11:06         1     Jan van Rijn   \n3603  predictive_accuracy  2017-07-24 23:10:11         1     Jan van Rijn   \n3604  predictive_accuracy  2017-07-08 19:09:37         1     Jan van Rijn   \n3605  predictive_accuracy  2017-08-02 15:06:52       869  Pieter Gijsbers   \n\n         value values array_data  \\\n0     0.991091   None       None   \n1     0.983296   None       None   \n2     0.963252   None       None   \n3     0.962138   None       None   \n4     0.961024   None       None   \n...        ...    ...        ...   \n3601  0.685969   None       None   \n3602  0.685969   None       None   \n3603  0.672606   None       None   \n3604  0.669265   None       None   \n3605  0.389755   None       None   \n\n                                             parameters  \n0     {'sklearn.pipeline.Pipeline(imputer=sklearn.pr...  \n1     {'sklearn.ensemble.forest.RandomForestClassifi...  \n2     {'sklearn.tree.tree.DecisionTreeClassifier(10)...  \n3     {'sklearn.tree.tree.DecisionTreeClassifier(10)...  \n4     {'sklearn.tree.tree.DecisionTreeClassifier(10)...  \n...                                                 ...  \n3601  {'sklearn.tree.tree.DecisionTreeClassifier(10)...  \n3602  {'sklearn.tree.tree.DecisionTreeClassifier(10)...  \n3603  {'openmlstudy14.preprocessing.ConditionalImput...  \n3604  {'sklearn.tree.tree.DecisionTreeClassifier(10)...  \n3605  {'sklearn.preprocessing.imputation.Imputer(5)_...  \n\n[3606 rows x 16 columns]",
      "text/html": "<div>\n<style scoped>\n    .dataframe tbody tr th:only-of-type {\n        vertical-align: middle;\n    }\n\n    .dataframe tbody tr th {\n        vertical-align: top;\n    }\n\n    .dataframe thead th {\n        text-align: right;\n    }\n</style>\n<table border=\"1\" class=\"dataframe\">\n  <thead>\n    <tr style=\"text-align: right;\">\n      <th></th>\n      <th>index</th>\n      <th>run_id</th>\n      <th>task_id</th>\n      <th>setup_id</th>\n      <th>flow_id</th>\n      <th>flow_name</th>\n      <th>data_id</th>\n      <th>data_name</th>\n      <th>function</th>\n      <th>upload_time</th>\n      <th>uploader</th>\n      <th>uploader_name</th>\n      <th>value</th>\n      <th>values</th>\n      <th>array_data</th>\n      <th>parameters</th>\n    </tr>\n  </thead>\n  <tbody>\n    <tr>\n      <th>0</th>\n      <td>37</td>\n      <td>10160806</td>\n      <td>2</td>\n      <td>8086270</td>\n      <td>9689</td>\n      <td>sklearn.pipeline.Pipeline(imputer=sklearn.prep...</td>\n      <td>2</td>\n      <td>anneal</td>\n      <td>predictive_accuracy</td>\n      <td>2019-04-13 06:09:08</td>\n      <td>8420</td>\n      <td>T I</td>\n      <td>0.991091</td>\n      <td>None</td>\n      <td>None</td>\n      <td>{'sklearn.pipeline.Pipeline(imputer=sklearn.pr...</td>\n    </tr>\n    <tr>\n      <th>1</th>\n      <td>91</td>\n      <td>1860456</td>\n      <td>2</td>\n      <td>36565</td>\n      <td>5909</td>\n      <td>sklearn.pipeline.Pipeline(imputer=sklearn.prep...</td>\n      <td>2</td>\n      <td>anneal</td>\n      <td>predictive_accuracy</td>\n      <td>2017-03-27 22:32:43</td>\n      <td>1022</td>\n      <td>Randal Olson</td>\n      <td>0.983296</td>\n      <td>None</td>\n      <td>None</td>\n      <td>{'sklearn.ensemble.forest.RandomForestClassifi...</td>\n    </tr>\n    <tr>\n      <th>2</th>\n      <td>175</td>\n      <td>5950015</td>\n      <td>2</td>\n      <td>3984760</td>\n      <td>6970</td>\n      <td>sklearn.pipeline.Pipeline(imputation=openmlstu...</td>\n      <td>2</td>\n      <td>anneal</td>\n      <td>predictive_accuracy</td>\n      <td>2017-07-14 15:39:47</td>\n      <td>1</td>\n      <td>Jan van Rijn</td>\n      <td>0.963252</td>\n      <td>None</td>\n      <td>None</td>\n      <td>{'sklearn.tree.tree.DecisionTreeClassifier(10)...</td>\n    </tr>\n    <tr>\n      <th>3</th>\n      <td>176</td>\n      <td>5950070</td>\n      <td>2</td>\n      <td>3984815</td>\n      <td>6970</td>\n      <td>sklearn.pipeline.Pipeline(imputation=openmlstu...</td>\n      <td>2</td>\n      <td>anneal</td>\n      <td>predictive_accuracy</td>\n      <td>2017-07-14 15:43:34</td>\n      <td>1</td>\n      <td>Jan van Rijn</td>\n      <td>0.962138</td>\n      <td>None</td>\n      <td>None</td>\n      <td>{'sklearn.tree.tree.DecisionTreeClassifier(10)...</td>\n    </tr>\n    <tr>\n      <th>4</th>\n      <td>177</td>\n      <td>4855681</td>\n      <td>2</td>\n      <td>2891090</td>\n      <td>6970</td>\n      <td>sklearn.pipeline.Pipeline(imputation=openmlstu...</td>\n      <td>2</td>\n      <td>anneal</td>\n      <td>predictive_accuracy</td>\n      <td>2017-07-08 06:43:16</td>\n      <td>1</td>\n      <td>Jan van Rijn</td>\n      <td>0.961024</td>\n      <td>None</td>\n      <td>None</td>\n      <td>{'sklearn.tree.tree.DecisionTreeClassifier(10)...</td>\n    </tr>\n    <tr>\n      <th>...</th>\n      <td>...</td>\n      <td>...</td>\n      <td>...</td>\n      <td>...</td>\n      <td>...</td>\n      <td>...</td>\n      <td>...</td>\n      <td>...</td>\n      <td>...</td>\n      <td>...</td>\n      <td>...</td>\n      <td>...</td>\n      <td>...</td>\n      <td>...</td>\n      <td>...</td>\n      <td>...</td>\n    </tr>\n    <tr>\n      <th>3601</th>\n      <td>5489</td>\n      <td>5930403</td>\n      <td>2</td>\n      <td>3965152</td>\n      <td>6970</td>\n      <td>sklearn.pipeline.Pipeline(imputation=openmlstu...</td>\n      <td>2</td>\n      <td>anneal</td>\n      <td>predictive_accuracy</td>\n      <td>2017-07-14 01:15:43</td>\n      <td>1</td>\n      <td>Jan van Rijn</td>\n      <td>0.685969</td>\n      <td>None</td>\n      <td>None</td>\n      <td>{'sklearn.tree.tree.DecisionTreeClassifier(10)...</td>\n    </tr>\n    <tr>\n      <th>3602</th>\n      <td>5490</td>\n      <td>5956713</td>\n      <td>2</td>\n      <td>3991454</td>\n      <td>6970</td>\n      <td>sklearn.pipeline.Pipeline(imputation=openmlstu...</td>\n      <td>2</td>\n      <td>anneal</td>\n      <td>predictive_accuracy</td>\n      <td>2017-07-14 23:11:06</td>\n      <td>1</td>\n      <td>Jan van Rijn</td>\n      <td>0.685969</td>\n      <td>None</td>\n      <td>None</td>\n      <td>{'sklearn.tree.tree.DecisionTreeClassifier(10)...</td>\n    </tr>\n    <tr>\n      <th>3603</th>\n      <td>5491</td>\n      <td>6043409</td>\n      <td>2</td>\n      <td>4078067</td>\n      <td>6952</td>\n      <td>sklearn.pipeline.Pipeline(imputation=openmlstu...</td>\n      <td>2</td>\n      <td>anneal</td>\n      <td>predictive_accuracy</td>\n      <td>2017-07-24 23:10:11</td>\n      <td>1</td>\n      <td>Jan van Rijn</td>\n      <td>0.672606</td>\n      <td>None</td>\n      <td>None</td>\n      <td>{'openmlstudy14.preprocessing.ConditionalImput...</td>\n    </tr>\n    <tr>\n      <th>3604</th>\n      <td>5492</td>\n      <td>4970024</td>\n      <td>2</td>\n      <td>3005421</td>\n      <td>6970</td>\n      <td>sklearn.pipeline.Pipeline(imputation=openmlstu...</td>\n      <td>2</td>\n      <td>anneal</td>\n      <td>predictive_accuracy</td>\n      <td>2017-07-08 19:09:37</td>\n      <td>1</td>\n      <td>Jan van Rijn</td>\n      <td>0.669265</td>\n      <td>None</td>\n      <td>None</td>\n      <td>{'sklearn.tree.tree.DecisionTreeClassifier(10)...</td>\n    </tr>\n    <tr>\n      <th>3605</th>\n      <td>5511</td>\n      <td>6059830</td>\n      <td>2</td>\n      <td>4075685</td>\n      <td>7026</td>\n      <td>sklearn.pipeline.Pipeline(Median-Imputer=sklea...</td>\n      <td>2</td>\n      <td>anneal</td>\n      <td>predictive_accuracy</td>\n      <td>2017-08-02 15:06:52</td>\n      <td>869</td>\n      <td>Pieter Gijsbers</td>\n      <td>0.389755</td>\n      <td>None</td>\n      <td>None</td>\n      <td>{'sklearn.preprocessing.imputation.Imputer(5)_...</td>\n    </tr>\n  </tbody>\n</table>\n<p>3606 rows × 16 columns</p>\n</div>"
     },
     "execution_count": 398,
     "metadata": {},
     "output_type": "execute_result"
    }
   ],
   "source": [
    "# if evals_tid_1.empty == False:\n",
    "sklearn_evaluations_setups = evals_tid_1.loc[evals_tid_1['flow_id'].isin(FLOW_IDS_ALLOWED)].reset_index()\n",
    "sklearn_evaluations_setups"
   ],
   "metadata": {
    "collapsed": false,
    "pycharm": {
     "name": "#%%\n"
    }
   }
  },
  {
   "cell_type": "code",
   "execution_count": 403,
   "outputs": [
    {
     "data": {
      "text/plain": "{'sklearn.pipeline.Pipeline(imputer=sklearn.preprocessing.imputation.Imputer,estimator=sklearn.tree.tree.DecisionTreeClassifier)(15)_memory': 'null',\n 'sklearn.pipeline.Pipeline(imputer=sklearn.preprocessing.imputation.Imputer,estimator=sklearn.tree.tree.DecisionTreeClassifier)(15)_steps': '[{\"oml-python:serialized_object\": \"component_reference\", \"value\": {\"step_name\": \"imputer\", \"key\": \"imputer\"}}, {\"oml-python:serialized_object\": \"component_reference\", \"value\": {\"step_name\": \"estimator\", \"key\": \"estimator\"}}]',\n 'sklearn.preprocessing.imputation.Imputer(41)_axis': '0',\n 'sklearn.preprocessing.imputation.Imputer(41)_copy': 'true',\n 'sklearn.preprocessing.imputation.Imputer(41)_missing_values': '\"NaN\"',\n 'sklearn.preprocessing.imputation.Imputer(41)_strategy': '\"mean\"',\n 'sklearn.preprocessing.imputation.Imputer(41)_verbose': '0',\n 'sklearn.tree.tree.DecisionTreeClassifier(39)_class_weight': 'null',\n 'sklearn.tree.tree.DecisionTreeClassifier(39)_criterion': '\"gini\"',\n 'sklearn.tree.tree.DecisionTreeClassifier(39)_max_depth': 'null',\n 'sklearn.tree.tree.DecisionTreeClassifier(39)_max_features': 'null',\n 'sklearn.tree.tree.DecisionTreeClassifier(39)_max_leaf_nodes': 'null',\n 'sklearn.tree.tree.DecisionTreeClassifier(39)_min_impurity_decrease': '0.0',\n 'sklearn.tree.tree.DecisionTreeClassifier(39)_min_impurity_split': 'null',\n 'sklearn.tree.tree.DecisionTreeClassifier(39)_min_samples_leaf': '1',\n 'sklearn.tree.tree.DecisionTreeClassifier(39)_min_samples_split': '2',\n 'sklearn.tree.tree.DecisionTreeClassifier(39)_min_weight_fraction_leaf': '0.0',\n 'sklearn.tree.tree.DecisionTreeClassifier(39)_presort': 'false',\n 'sklearn.tree.tree.DecisionTreeClassifier(39)_random_state': '54954',\n 'sklearn.tree.tree.DecisionTreeClassifier(39)_splitter': '\"best\"'}"
     },
     "execution_count": 403,
     "metadata": {},
     "output_type": "execute_result"
    }
   ],
   "source": [
    "sklearn_evaluations_setups.parameters.values[0]\n"
   ],
   "metadata": {
    "collapsed": false,
    "pycharm": {
     "name": "#%%\n"
    }
   }
  },
  {
   "cell_type": "code",
   "execution_count": null,
   "outputs": [],
   "source": [
    "'sklearn.ensemble.forest.RandomForestClassifier'\n",
    "'sklearn.tree.tree.DecisionTreeClassifier'\n",
    "\n",
    "'sklearn.svm.classes.SVC'\n",
    "\n",
    "\n",
    "# no\n",
    "'sklearn.ensemble.weight_boosting.AdaBoostClassifier'\n"
   ],
   "metadata": {
    "collapsed": false,
    "pycharm": {
     "name": "#%%\n"
    }
   }
  },
  {
   "cell_type": "markdown",
   "source": [
    "# 2. Filter Setups. Don't need this (DONE)"
   ],
   "metadata": {
    "collapsed": false,
    "pycharm": {
     "name": "#%% md\n"
    }
   }
  },
  {
   "cell_type": "code",
   "execution_count": 437,
   "outputs": [
    {
     "data": {
      "text/plain": "         setup_id  flow_id                                         parameters\n8268584   8268584    18002  {121507: {'input_id': 121507, 'flow_id': 17654...\n8268694   8268694    18002  {121507: {'input_id': 121507, 'flow_id': 17654...\n8268781   8268781    18002  {121507: {'input_id': 121507, 'flow_id': 17654...\n8268800   8268800    18002  {121507: {'input_id': 121507, 'flow_id': 17654...\n8269111   8269111    18002  {121507: {'input_id': 121507, 'flow_id': 17654...\n8269252   8269252    18002  {121507: {'input_id': 121507, 'flow_id': 17654...\n8269552   8269552    18002  {121507: {'input_id': 121507, 'flow_id': 17654...\n8269566   8269566    18002  {121507: {'input_id': 121507, 'flow_id': 17654...\n8271928   8271928    18002  {121507: {'input_id': 121507, 'flow_id': 17654...\n8271952   8271952    18002  {121507: {'input_id': 121507, 'flow_id': 17654...\n8272226   8272226    18002  {121507: {'input_id': 121507, 'flow_id': 17654...\n8272252   8272252    18002  {121507: {'input_id': 121507, 'flow_id': 17654...\n8272556   8272556    18002  {121507: {'input_id': 121507, 'flow_id': 17654...\n8272678   8272678    18002  {121507: {'input_id': 121507, 'flow_id': 17654...",
      "text/html": "<div>\n<style scoped>\n    .dataframe tbody tr th:only-of-type {\n        vertical-align: middle;\n    }\n\n    .dataframe tbody tr th {\n        vertical-align: top;\n    }\n\n    .dataframe thead th {\n        text-align: right;\n    }\n</style>\n<table border=\"1\" class=\"dataframe\">\n  <thead>\n    <tr style=\"text-align: right;\">\n      <th></th>\n      <th>setup_id</th>\n      <th>flow_id</th>\n      <th>parameters</th>\n    </tr>\n  </thead>\n  <tbody>\n    <tr>\n      <th>8268584</th>\n      <td>8268584</td>\n      <td>18002</td>\n      <td>{121507: {'input_id': 121507, 'flow_id': 17654...</td>\n    </tr>\n    <tr>\n      <th>8268694</th>\n      <td>8268694</td>\n      <td>18002</td>\n      <td>{121507: {'input_id': 121507, 'flow_id': 17654...</td>\n    </tr>\n    <tr>\n      <th>8268781</th>\n      <td>8268781</td>\n      <td>18002</td>\n      <td>{121507: {'input_id': 121507, 'flow_id': 17654...</td>\n    </tr>\n    <tr>\n      <th>8268800</th>\n      <td>8268800</td>\n      <td>18002</td>\n      <td>{121507: {'input_id': 121507, 'flow_id': 17654...</td>\n    </tr>\n    <tr>\n      <th>8269111</th>\n      <td>8269111</td>\n      <td>18002</td>\n      <td>{121507: {'input_id': 121507, 'flow_id': 17654...</td>\n    </tr>\n    <tr>\n      <th>8269252</th>\n      <td>8269252</td>\n      <td>18002</td>\n      <td>{121507: {'input_id': 121507, 'flow_id': 17654...</td>\n    </tr>\n    <tr>\n      <th>8269552</th>\n      <td>8269552</td>\n      <td>18002</td>\n      <td>{121507: {'input_id': 121507, 'flow_id': 17654...</td>\n    </tr>\n    <tr>\n      <th>8269566</th>\n      <td>8269566</td>\n      <td>18002</td>\n      <td>{121507: {'input_id': 121507, 'flow_id': 17654...</td>\n    </tr>\n    <tr>\n      <th>8271928</th>\n      <td>8271928</td>\n      <td>18002</td>\n      <td>{121507: {'input_id': 121507, 'flow_id': 17654...</td>\n    </tr>\n    <tr>\n      <th>8271952</th>\n      <td>8271952</td>\n      <td>18002</td>\n      <td>{121507: {'input_id': 121507, 'flow_id': 17654...</td>\n    </tr>\n    <tr>\n      <th>8272226</th>\n      <td>8272226</td>\n      <td>18002</td>\n      <td>{121507: {'input_id': 121507, 'flow_id': 17654...</td>\n    </tr>\n    <tr>\n      <th>8272252</th>\n      <td>8272252</td>\n      <td>18002</td>\n      <td>{121507: {'input_id': 121507, 'flow_id': 17654...</td>\n    </tr>\n    <tr>\n      <th>8272556</th>\n      <td>8272556</td>\n      <td>18002</td>\n      <td>{121507: {'input_id': 121507, 'flow_id': 17654...</td>\n    </tr>\n    <tr>\n      <th>8272678</th>\n      <td>8272678</td>\n      <td>18002</td>\n      <td>{121507: {'input_id': 121507, 'flow_id': 17654...</td>\n    </tr>\n  </tbody>\n</table>\n</div>"
     },
     "execution_count": 437,
     "metadata": {},
     "output_type": "execute_result"
    }
   ],
   "source": [
    "flow_id = 18002\n",
    "setup_for_flow_id = openml.setups.list_setups(flow=flow_id, output_format='dataframe')\n",
    "setup_for_flow_id"
   ],
   "metadata": {
    "collapsed": false,
    "pycharm": {
     "name": "#%%\n"
    }
   }
  },
  {
   "cell_type": "code",
   "execution_count": 439,
   "outputs": [
    {
     "data": {
      "text/plain": "       input_id flow_id                                          flow_name  \\\n121507   121507   17654    sklearn.ensemble._forest.RandomForestClassifier   \n121508   121508   17654    sklearn.ensemble._forest.RandomForestClassifier   \n121509   121509   17654    sklearn.ensemble._forest.RandomForestClassifier   \n121510   121510   17654    sklearn.ensemble._forest.RandomForestClassifier   \n121511   121511   17654    sklearn.ensemble._forest.RandomForestClassifier   \n121512   121512   17654    sklearn.ensemble._forest.RandomForestClassifier   \n121513   121513   17654    sklearn.ensemble._forest.RandomForestClassifier   \n121514   121514   17654    sklearn.ensemble._forest.RandomForestClassifier   \n121515   121515   17654    sklearn.ensemble._forest.RandomForestClassifier   \n121516   121516   17654    sklearn.ensemble._forest.RandomForestClassifier   \n121517   121517   17654    sklearn.ensemble._forest.RandomForestClassifier   \n121518   121518   17654    sklearn.ensemble._forest.RandomForestClassifier   \n121519   121519   17654    sklearn.ensemble._forest.RandomForestClassifier   \n121520   121520   17654    sklearn.ensemble._forest.RandomForestClassifier   \n121521   121521   17654    sklearn.ensemble._forest.RandomForestClassifier   \n121522   121522   17654    sklearn.ensemble._forest.RandomForestClassifier   \n121523   121523   17654    sklearn.ensemble._forest.RandomForestClassifier   \n121524   121524   17654    sklearn.ensemble._forest.RandomForestClassifier   \n121525   121525   17654    sklearn.ensemble._forest.RandomForestClassifier   \n121908   121908   17711  automl.components.feature_preprocessing.multi_...   \n122403   122403   17867           sklearn.preprocessing._data.RobustScaler   \n122404   122404   17867           sklearn.preprocessing._data.RobustScaler   \n122405   122405   17867           sklearn.preprocessing._data.RobustScaler   \n122406   122406   17867           sklearn.preprocessing._data.RobustScaler   \n122794   122794   18002  sklearn.pipeline.Pipeline(step_0=automl.compon...   \n122795   122795   18002  sklearn.pipeline.Pipeline(step_0=automl.compon...   \n122796   122796   18002  sklearn.pipeline.Pipeline(step_0=automl.compon...   \n\n                                                full_name  \\\n121507  sklearn.ensemble._forest.RandomForestClassifie...   \n121508  sklearn.ensemble._forest.RandomForestClassifie...   \n121509  sklearn.ensemble._forest.RandomForestClassifie...   \n121510  sklearn.ensemble._forest.RandomForestClassifie...   \n121511  sklearn.ensemble._forest.RandomForestClassifie...   \n121512  sklearn.ensemble._forest.RandomForestClassifie...   \n121513  sklearn.ensemble._forest.RandomForestClassifie...   \n121514  sklearn.ensemble._forest.RandomForestClassifie...   \n121515  sklearn.ensemble._forest.RandomForestClassifie...   \n121516  sklearn.ensemble._forest.RandomForestClassifie...   \n121517  sklearn.ensemble._forest.RandomForestClassifie...   \n121518  sklearn.ensemble._forest.RandomForestClassifie...   \n121519  sklearn.ensemble._forest.RandomForestClassifie...   \n121520  sklearn.ensemble._forest.RandomForestClassifie...   \n121521  sklearn.ensemble._forest.RandomForestClassifie...   \n121522  sklearn.ensemble._forest.RandomForestClassifie...   \n121523  sklearn.ensemble._forest.RandomForestClassifie...   \n121524  sklearn.ensemble._forest.RandomForestClassifie...   \n121525  sklearn.ensemble._forest.RandomForestClassifie...   \n121908  automl.components.feature_preprocessing.multi_...   \n122403   sklearn.preprocessing._data.RobustScaler(1)_copy   \n122404  sklearn.preprocessing._data.RobustScaler(1)_qu...   \n122405  sklearn.preprocessing._data.RobustScaler(1)_wi...   \n122406  sklearn.preprocessing._data.RobustScaler(1)_wi...   \n122794  sklearn.pipeline.Pipeline(step_0=automl.compon...   \n122795  sklearn.pipeline.Pipeline(step_0=automl.compon...   \n122796  sklearn.pipeline.Pipeline(step_0=automl.compon...   \n\n                  parameter_name        data_type  \\\n121507                 bootstrap          boolean   \n121508                 ccp_alpha              non   \n121509              class_weight             dict   \n121510                 criterion           string   \n121511                 max_depth  integer or None   \n121512              max_features              int   \n121513            max_leaf_nodes      int or None   \n121514               max_samples     int or float   \n121515     min_impurity_decrease            float   \n121516        min_impurity_split            float   \n121517          min_samples_leaf              int   \n121518         min_samples_split              int   \n121519  min_weight_fraction_leaf            float   \n121520              n_estimators          integer   \n121521                    n_jobs      int or None   \n121522                 oob_score             bool   \n121523              random_state              int   \n121524                   verbose              int   \n121525                warm_start             bool   \n121908                   columns             List   \n122403                      copy          boolean   \n122404            quantile_range            tuple   \n122405            with_centering          boolean   \n122406              with_scaling          boolean   \n122794                    memory             None   \n122795                     steps             list   \n122796                   verbose             bool   \n\n                                            default_value  \\\n121507                                               true   \n121508                                                0.0   \n121509                                               null   \n121510                                             \"gini\"   \n121511                                               null   \n121512                                             \"auto\"   \n121513                                               null   \n121514                                               null   \n121515                                              1e-07   \n121516                                                  0   \n121517                                                  1   \n121518                                                  2   \n121519                                                0.0   \n121520                                                 10   \n121521                                                  1   \n121522                                              false   \n121523                                                  1   \n121524                                                  0   \n121525                                              false   \n121908                                               null   \n122403                                              false   \n122404            [24.275836142495244, 92.52607450557818]   \n122405                                              false   \n122406                                               true   \n122794                                               null   \n122795  [{\"oml-python:serialized_object\": \"component_r...   \n122796                                              false   \n\n                                                    value  \n121507                                               true  \n121508                                 0.8505066338246248  \n121509                                               null  \n121510                                          \"entropy\"  \n121511                                                  3  \n121512                                                  1  \n121513                                                404  \n121514                                0.09789220601566292  \n121515                                  0.522677637983528  \n121516                                               null  \n121517                                0.30740623981508547  \n121518                                0.27274881728751416  \n121519                                0.14017782222423036  \n121520                                               1571  \n121521                                                  1  \n121522                                               true  \n121523                                                 42  \n121524                                                  0  \n121525                                              false  \n121908                                               null  \n122403                                              false  \n122404             [59.48577249274012, 72.92391059099556]  \n122405                                              false  \n122406                                               true  \n122794                                               null  \n122795  [{\"oml-python:serialized_object\": \"component_r...  \n122796                                              false  ",
      "text/html": "<div>\n<style scoped>\n    .dataframe tbody tr th:only-of-type {\n        vertical-align: middle;\n    }\n\n    .dataframe tbody tr th {\n        vertical-align: top;\n    }\n\n    .dataframe thead th {\n        text-align: right;\n    }\n</style>\n<table border=\"1\" class=\"dataframe\">\n  <thead>\n    <tr style=\"text-align: right;\">\n      <th></th>\n      <th>input_id</th>\n      <th>flow_id</th>\n      <th>flow_name</th>\n      <th>full_name</th>\n      <th>parameter_name</th>\n      <th>data_type</th>\n      <th>default_value</th>\n      <th>value</th>\n    </tr>\n  </thead>\n  <tbody>\n    <tr>\n      <th>121507</th>\n      <td>121507</td>\n      <td>17654</td>\n      <td>sklearn.ensemble._forest.RandomForestClassifier</td>\n      <td>sklearn.ensemble._forest.RandomForestClassifie...</td>\n      <td>bootstrap</td>\n      <td>boolean</td>\n      <td>true</td>\n      <td>true</td>\n    </tr>\n    <tr>\n      <th>121508</th>\n      <td>121508</td>\n      <td>17654</td>\n      <td>sklearn.ensemble._forest.RandomForestClassifier</td>\n      <td>sklearn.ensemble._forest.RandomForestClassifie...</td>\n      <td>ccp_alpha</td>\n      <td>non</td>\n      <td>0.0</td>\n      <td>0.8505066338246248</td>\n    </tr>\n    <tr>\n      <th>121509</th>\n      <td>121509</td>\n      <td>17654</td>\n      <td>sklearn.ensemble._forest.RandomForestClassifier</td>\n      <td>sklearn.ensemble._forest.RandomForestClassifie...</td>\n      <td>class_weight</td>\n      <td>dict</td>\n      <td>null</td>\n      <td>null</td>\n    </tr>\n    <tr>\n      <th>121510</th>\n      <td>121510</td>\n      <td>17654</td>\n      <td>sklearn.ensemble._forest.RandomForestClassifier</td>\n      <td>sklearn.ensemble._forest.RandomForestClassifie...</td>\n      <td>criterion</td>\n      <td>string</td>\n      <td>\"gini\"</td>\n      <td>\"entropy\"</td>\n    </tr>\n    <tr>\n      <th>121511</th>\n      <td>121511</td>\n      <td>17654</td>\n      <td>sklearn.ensemble._forest.RandomForestClassifier</td>\n      <td>sklearn.ensemble._forest.RandomForestClassifie...</td>\n      <td>max_depth</td>\n      <td>integer or None</td>\n      <td>null</td>\n      <td>3</td>\n    </tr>\n    <tr>\n      <th>121512</th>\n      <td>121512</td>\n      <td>17654</td>\n      <td>sklearn.ensemble._forest.RandomForestClassifier</td>\n      <td>sklearn.ensemble._forest.RandomForestClassifie...</td>\n      <td>max_features</td>\n      <td>int</td>\n      <td>\"auto\"</td>\n      <td>1</td>\n    </tr>\n    <tr>\n      <th>121513</th>\n      <td>121513</td>\n      <td>17654</td>\n      <td>sklearn.ensemble._forest.RandomForestClassifier</td>\n      <td>sklearn.ensemble._forest.RandomForestClassifie...</td>\n      <td>max_leaf_nodes</td>\n      <td>int or None</td>\n      <td>null</td>\n      <td>404</td>\n    </tr>\n    <tr>\n      <th>121514</th>\n      <td>121514</td>\n      <td>17654</td>\n      <td>sklearn.ensemble._forest.RandomForestClassifier</td>\n      <td>sklearn.ensemble._forest.RandomForestClassifie...</td>\n      <td>max_samples</td>\n      <td>int or float</td>\n      <td>null</td>\n      <td>0.09789220601566292</td>\n    </tr>\n    <tr>\n      <th>121515</th>\n      <td>121515</td>\n      <td>17654</td>\n      <td>sklearn.ensemble._forest.RandomForestClassifier</td>\n      <td>sklearn.ensemble._forest.RandomForestClassifie...</td>\n      <td>min_impurity_decrease</td>\n      <td>float</td>\n      <td>1e-07</td>\n      <td>0.522677637983528</td>\n    </tr>\n    <tr>\n      <th>121516</th>\n      <td>121516</td>\n      <td>17654</td>\n      <td>sklearn.ensemble._forest.RandomForestClassifier</td>\n      <td>sklearn.ensemble._forest.RandomForestClassifie...</td>\n      <td>min_impurity_split</td>\n      <td>float</td>\n      <td>0</td>\n      <td>null</td>\n    </tr>\n    <tr>\n      <th>121517</th>\n      <td>121517</td>\n      <td>17654</td>\n      <td>sklearn.ensemble._forest.RandomForestClassifier</td>\n      <td>sklearn.ensemble._forest.RandomForestClassifie...</td>\n      <td>min_samples_leaf</td>\n      <td>int</td>\n      <td>1</td>\n      <td>0.30740623981508547</td>\n    </tr>\n    <tr>\n      <th>121518</th>\n      <td>121518</td>\n      <td>17654</td>\n      <td>sklearn.ensemble._forest.RandomForestClassifier</td>\n      <td>sklearn.ensemble._forest.RandomForestClassifie...</td>\n      <td>min_samples_split</td>\n      <td>int</td>\n      <td>2</td>\n      <td>0.27274881728751416</td>\n    </tr>\n    <tr>\n      <th>121519</th>\n      <td>121519</td>\n      <td>17654</td>\n      <td>sklearn.ensemble._forest.RandomForestClassifier</td>\n      <td>sklearn.ensemble._forest.RandomForestClassifie...</td>\n      <td>min_weight_fraction_leaf</td>\n      <td>float</td>\n      <td>0.0</td>\n      <td>0.14017782222423036</td>\n    </tr>\n    <tr>\n      <th>121520</th>\n      <td>121520</td>\n      <td>17654</td>\n      <td>sklearn.ensemble._forest.RandomForestClassifier</td>\n      <td>sklearn.ensemble._forest.RandomForestClassifie...</td>\n      <td>n_estimators</td>\n      <td>integer</td>\n      <td>10</td>\n      <td>1571</td>\n    </tr>\n    <tr>\n      <th>121521</th>\n      <td>121521</td>\n      <td>17654</td>\n      <td>sklearn.ensemble._forest.RandomForestClassifier</td>\n      <td>sklearn.ensemble._forest.RandomForestClassifie...</td>\n      <td>n_jobs</td>\n      <td>int or None</td>\n      <td>1</td>\n      <td>1</td>\n    </tr>\n    <tr>\n      <th>121522</th>\n      <td>121522</td>\n      <td>17654</td>\n      <td>sklearn.ensemble._forest.RandomForestClassifier</td>\n      <td>sklearn.ensemble._forest.RandomForestClassifie...</td>\n      <td>oob_score</td>\n      <td>bool</td>\n      <td>false</td>\n      <td>true</td>\n    </tr>\n    <tr>\n      <th>121523</th>\n      <td>121523</td>\n      <td>17654</td>\n      <td>sklearn.ensemble._forest.RandomForestClassifier</td>\n      <td>sklearn.ensemble._forest.RandomForestClassifie...</td>\n      <td>random_state</td>\n      <td>int</td>\n      <td>1</td>\n      <td>42</td>\n    </tr>\n    <tr>\n      <th>121524</th>\n      <td>121524</td>\n      <td>17654</td>\n      <td>sklearn.ensemble._forest.RandomForestClassifier</td>\n      <td>sklearn.ensemble._forest.RandomForestClassifie...</td>\n      <td>verbose</td>\n      <td>int</td>\n      <td>0</td>\n      <td>0</td>\n    </tr>\n    <tr>\n      <th>121525</th>\n      <td>121525</td>\n      <td>17654</td>\n      <td>sklearn.ensemble._forest.RandomForestClassifier</td>\n      <td>sklearn.ensemble._forest.RandomForestClassifie...</td>\n      <td>warm_start</td>\n      <td>bool</td>\n      <td>false</td>\n      <td>false</td>\n    </tr>\n    <tr>\n      <th>121908</th>\n      <td>121908</td>\n      <td>17711</td>\n      <td>automl.components.feature_preprocessing.multi_...</td>\n      <td>automl.components.feature_preprocessing.multi_...</td>\n      <td>columns</td>\n      <td>List</td>\n      <td>null</td>\n      <td>null</td>\n    </tr>\n    <tr>\n      <th>122403</th>\n      <td>122403</td>\n      <td>17867</td>\n      <td>sklearn.preprocessing._data.RobustScaler</td>\n      <td>sklearn.preprocessing._data.RobustScaler(1)_copy</td>\n      <td>copy</td>\n      <td>boolean</td>\n      <td>false</td>\n      <td>false</td>\n    </tr>\n    <tr>\n      <th>122404</th>\n      <td>122404</td>\n      <td>17867</td>\n      <td>sklearn.preprocessing._data.RobustScaler</td>\n      <td>sklearn.preprocessing._data.RobustScaler(1)_qu...</td>\n      <td>quantile_range</td>\n      <td>tuple</td>\n      <td>[24.275836142495244, 92.52607450557818]</td>\n      <td>[59.48577249274012, 72.92391059099556]</td>\n    </tr>\n    <tr>\n      <th>122405</th>\n      <td>122405</td>\n      <td>17867</td>\n      <td>sklearn.preprocessing._data.RobustScaler</td>\n      <td>sklearn.preprocessing._data.RobustScaler(1)_wi...</td>\n      <td>with_centering</td>\n      <td>boolean</td>\n      <td>false</td>\n      <td>false</td>\n    </tr>\n    <tr>\n      <th>122406</th>\n      <td>122406</td>\n      <td>17867</td>\n      <td>sklearn.preprocessing._data.RobustScaler</td>\n      <td>sklearn.preprocessing._data.RobustScaler(1)_wi...</td>\n      <td>with_scaling</td>\n      <td>boolean</td>\n      <td>true</td>\n      <td>true</td>\n    </tr>\n    <tr>\n      <th>122794</th>\n      <td>122794</td>\n      <td>18002</td>\n      <td>sklearn.pipeline.Pipeline(step_0=automl.compon...</td>\n      <td>sklearn.pipeline.Pipeline(step_0=automl.compon...</td>\n      <td>memory</td>\n      <td>None</td>\n      <td>null</td>\n      <td>null</td>\n    </tr>\n    <tr>\n      <th>122795</th>\n      <td>122795</td>\n      <td>18002</td>\n      <td>sklearn.pipeline.Pipeline(step_0=automl.compon...</td>\n      <td>sklearn.pipeline.Pipeline(step_0=automl.compon...</td>\n      <td>steps</td>\n      <td>list</td>\n      <td>[{\"oml-python:serialized_object\": \"component_r...</td>\n      <td>[{\"oml-python:serialized_object\": \"component_r...</td>\n    </tr>\n    <tr>\n      <th>122796</th>\n      <td>122796</td>\n      <td>18002</td>\n      <td>sklearn.pipeline.Pipeline(step_0=automl.compon...</td>\n      <td>sklearn.pipeline.Pipeline(step_0=automl.compon...</td>\n      <td>verbose</td>\n      <td>bool</td>\n      <td>false</td>\n      <td>false</td>\n    </tr>\n  </tbody>\n</table>\n</div>"
     },
     "execution_count": 439,
     "metadata": {},
     "output_type": "execute_result"
    }
   ],
   "source": [
    "df_params = pd.DataFrame(setup_for_flow_id.values[0,2])\n",
    "df_params.T\n",
    "# df_params = pd.DataFrame.from_records(setup_for_flow_id.values[:,2])\n",
    "# df_params\n",
    "\n",
    "#setup_for_flow_id.values[:,2]\n"
   ],
   "metadata": {
    "collapsed": false,
    "pycharm": {
     "name": "#%%\n"
    }
   }
  },
  {
   "cell_type": "markdown",
   "source": [
    "# Don't need this (DONE)"
   ],
   "metadata": {
    "collapsed": false,
    "pycharm": {
     "name": "#%% md\n"
    }
   }
  },
  {
   "cell_type": "code",
   "execution_count": 293,
   "outputs": [
    {
     "data": {
      "text/plain": "{25569: OpenML Parameter\n ================\n ID............: 25569\n Flow ID.......: 3413\n Flow Name.....: sklearn.svm.classes.SVC(1)_kernel\n Flow URL......: https://www.openml.org/f/3413\n Parameter Name: kernel\n   |__Data Type: None\n   |__Default..: None\n   |__Value....: rbf,\n 25570: OpenML Parameter\n ================\n ID............: 25570\n Flow ID.......: 3413\n Flow Name.....: sklearn.svm.classes.SVC(1)_C\n Flow URL......: https://www.openml.org/f/3413\n Parameter Name: C\n   |__Data Type: None\n   |__Default..: None\n   |__Value....: 3.0517578125e-05,\n 25571: OpenML Parameter\n ================\n ID............: 25571\n Flow ID.......: 3413\n Flow Name.....: sklearn.svm.classes.SVC(1)_verbose\n Flow URL......: https://www.openml.org/f/3413\n Parameter Name: verbose\n   |__Data Type: None\n   |__Default..: None\n   |__Value....: False,\n 25572: OpenML Parameter\n ================\n ID............: 25572\n Flow ID.......: 3413\n Flow Name.....: sklearn.svm.classes.SVC(1)_probability\n Flow URL......: https://www.openml.org/f/3413\n Parameter Name: probability\n   |__Data Type: None\n   |__Default..: None\n   |__Value....: True,\n 25573: OpenML Parameter\n ================\n ID............: 25573\n Flow ID.......: 3413\n Flow Name.....: sklearn.svm.classes.SVC(1)_degree\n Flow URL......: https://www.openml.org/f/3413\n Parameter Name: degree\n   |__Data Type: None\n   |__Default..: None\n   |__Value....: 3,\n 25574: OpenML Parameter\n ================\n ID............: 25574\n Flow ID.......: 3413\n Flow Name.....: sklearn.svm.classes.SVC(1)_shrinking\n Flow URL......: https://www.openml.org/f/3413\n Parameter Name: shrinking\n   |__Data Type: None\n   |__Default..: None\n   |__Value....: True,\n 25575: OpenML Parameter\n ================\n ID............: 25575\n Flow ID.......: 3413\n Flow Name.....: sklearn.svm.classes.SVC(1)_max_iter\n Flow URL......: https://www.openml.org/f/3413\n Parameter Name: max_iter\n   |__Data Type: None\n   |__Default..: None\n   |__Value....: -1,\n 25576: OpenML Parameter\n ================\n ID............: 25576\n Flow ID.......: 3413\n Flow Name.....: sklearn.svm.classes.SVC(1)_decision_function_shape\n Flow URL......: https://www.openml.org/f/3413\n Parameter Name: decision_function_shape\n   |__Data Type: None\n   |__Default..: None\n   |__Value....: None,\n 25577: OpenML Parameter\n ================\n ID............: 25577\n Flow ID.......: 3413\n Flow Name.....: sklearn.svm.classes.SVC(1)_random_state\n Flow URL......: https://www.openml.org/f/3413\n Parameter Name: random_state\n   |__Data Type: None\n   |__Default..: None\n   |__Value....: None,\n 25578: OpenML Parameter\n ================\n ID............: 25578\n Flow ID.......: 3413\n Flow Name.....: sklearn.svm.classes.SVC(1)_tol\n Flow URL......: https://www.openml.org/f/3413\n Parameter Name: tol\n   |__Data Type: None\n   |__Default..: None\n   |__Value....: 0.001,\n 25579: OpenML Parameter\n ================\n ID............: 25579\n Flow ID.......: 3413\n Flow Name.....: sklearn.svm.classes.SVC(1)_cache_size\n Flow URL......: https://www.openml.org/f/3413\n Parameter Name: cache_size\n   |__Data Type: None\n   |__Default..: None\n   |__Value....: 200,\n 25580: OpenML Parameter\n ================\n ID............: 25580\n Flow ID.......: 3413\n Flow Name.....: sklearn.svm.classes.SVC(1)_coef0\n Flow URL......: https://www.openml.org/f/3413\n Parameter Name: coef0\n   |__Data Type: None\n   |__Default..: None\n   |__Value....: 0.0,\n 25581: OpenML Parameter\n ================\n ID............: 25581\n Flow ID.......: 3413\n Flow Name.....: sklearn.svm.classes.SVC(1)_gamma\n Flow URL......: https://www.openml.org/f/3413\n Parameter Name: gamma\n   |__Data Type: None\n   |__Default..: None\n   |__Value....: 3.0517578125e-05,\n 25582: OpenML Parameter\n ================\n ID............: 25582\n Flow ID.......: 3413\n Flow Name.....: sklearn.svm.classes.SVC(1)_class_weight\n Flow URL......: https://www.openml.org/f/3413\n Parameter Name: class_weight\n   |__Data Type: None\n   |__Default..: None\n   |__Value....: None}"
     },
     "execution_count": 293,
     "metadata": {},
     "output_type": "execute_result"
    }
   ],
   "source": [
    "test_setup1 = openml.setups.get_setup(5578)\n",
    "test_setup1.parameters"
   ],
   "metadata": {
    "collapsed": false,
    "pycharm": {
     "name": "#%%\n"
    }
   }
  },
  {
   "cell_type": "code",
   "execution_count": 294,
   "outputs": [
    {
     "data": {
      "text/plain": "{25569: OpenML Parameter\n ================\n ID............: 25569\n Flow ID.......: 3413\n Flow Name.....: sklearn.svm.classes.SVC(1)_kernel\n Flow URL......: https://www.openml.org/f/3413\n Parameter Name: kernel\n   |__Data Type: None\n   |__Default..: None\n   |__Value....: rbf,\n 25570: OpenML Parameter\n ================\n ID............: 25570\n Flow ID.......: 3413\n Flow Name.....: sklearn.svm.classes.SVC(1)_C\n Flow URL......: https://www.openml.org/f/3413\n Parameter Name: C\n   |__Data Type: None\n   |__Default..: None\n   |__Value....: 211.904839651,\n 25571: OpenML Parameter\n ================\n ID............: 25571\n Flow ID.......: 3413\n Flow Name.....: sklearn.svm.classes.SVC(1)_verbose\n Flow URL......: https://www.openml.org/f/3413\n Parameter Name: verbose\n   |__Data Type: None\n   |__Default..: None\n   |__Value....: False,\n 25572: OpenML Parameter\n ================\n ID............: 25572\n Flow ID.......: 3413\n Flow Name.....: sklearn.svm.classes.SVC(1)_probability\n Flow URL......: https://www.openml.org/f/3413\n Parameter Name: probability\n   |__Data Type: None\n   |__Default..: None\n   |__Value....: True,\n 25573: OpenML Parameter\n ================\n ID............: 25573\n Flow ID.......: 3413\n Flow Name.....: sklearn.svm.classes.SVC(1)_degree\n Flow URL......: https://www.openml.org/f/3413\n Parameter Name: degree\n   |__Data Type: None\n   |__Default..: None\n   |__Value....: 3,\n 25574: OpenML Parameter\n ================\n ID............: 25574\n Flow ID.......: 3413\n Flow Name.....: sklearn.svm.classes.SVC(1)_shrinking\n Flow URL......: https://www.openml.org/f/3413\n Parameter Name: shrinking\n   |__Data Type: None\n   |__Default..: None\n   |__Value....: True,\n 25575: OpenML Parameter\n ================\n ID............: 25575\n Flow ID.......: 3413\n Flow Name.....: sklearn.svm.classes.SVC(1)_max_iter\n Flow URL......: https://www.openml.org/f/3413\n Parameter Name: max_iter\n   |__Data Type: None\n   |__Default..: None\n   |__Value....: -1,\n 25576: OpenML Parameter\n ================\n ID............: 25576\n Flow ID.......: 3413\n Flow Name.....: sklearn.svm.classes.SVC(1)_decision_function_shape\n Flow URL......: https://www.openml.org/f/3413\n Parameter Name: decision_function_shape\n   |__Data Type: None\n   |__Default..: None\n   |__Value....: None,\n 25577: OpenML Parameter\n ================\n ID............: 25577\n Flow ID.......: 3413\n Flow Name.....: sklearn.svm.classes.SVC(1)_random_state\n Flow URL......: https://www.openml.org/f/3413\n Parameter Name: random_state\n   |__Data Type: None\n   |__Default..: None\n   |__Value....: None,\n 25578: OpenML Parameter\n ================\n ID............: 25578\n Flow ID.......: 3413\n Flow Name.....: sklearn.svm.classes.SVC(1)_tol\n Flow URL......: https://www.openml.org/f/3413\n Parameter Name: tol\n   |__Data Type: None\n   |__Default..: None\n   |__Value....: 0.001,\n 25579: OpenML Parameter\n ================\n ID............: 25579\n Flow ID.......: 3413\n Flow Name.....: sklearn.svm.classes.SVC(1)_cache_size\n Flow URL......: https://www.openml.org/f/3413\n Parameter Name: cache_size\n   |__Data Type: None\n   |__Default..: None\n   |__Value....: 200,\n 25580: OpenML Parameter\n ================\n ID............: 25580\n Flow ID.......: 3413\n Flow Name.....: sklearn.svm.classes.SVC(1)_coef0\n Flow URL......: https://www.openml.org/f/3413\n Parameter Name: coef0\n   |__Data Type: None\n   |__Default..: None\n   |__Value....: 0.0,\n 25581: OpenML Parameter\n ================\n ID............: 25581\n Flow ID.......: 3413\n Flow Name.....: sklearn.svm.classes.SVC(1)_gamma\n Flow URL......: https://www.openml.org/f/3413\n Parameter Name: gamma\n   |__Data Type: None\n   |__Default..: None\n   |__Value....: 322.539788773,\n 25582: OpenML Parameter\n ================\n ID............: 25582\n Flow ID.......: 3413\n Flow Name.....: sklearn.svm.classes.SVC(1)_class_weight\n Flow URL......: https://www.openml.org/f/3413\n Parameter Name: class_weight\n   |__Data Type: None\n   |__Default..: None\n   |__Value....: None}"
     },
     "execution_count": 294,
     "metadata": {},
     "output_type": "execute_result"
    }
   ],
   "source": [
    "test_setup2 = openml.setups.get_setup(5580)\n",
    "test_setup2.parameters"
   ],
   "metadata": {
    "collapsed": false,
    "pycharm": {
     "name": "#%%\n"
    }
   }
  },
  {
   "cell_type": "code",
   "execution_count": null,
   "outputs": [],
   "source": [],
   "metadata": {
    "collapsed": false,
    "pycharm": {
     "name": "#%%\n"
    }
   }
  },
  {
   "cell_type": "markdown",
   "source": [
    "# 4. Create ALLOWED_TASKS.pkl and did_tid.pkl (DONE)\n",
    "I narrowed the number of tasks, by restriction (Dataset_id in Study1.datasets)"
   ],
   "metadata": {
    "collapsed": false,
    "pycharm": {
     "name": "#%% md\n"
    }
   }
  },
  {
   "cell_type": "code",
   "execution_count": 285,
   "outputs": [
    {
     "data": {
      "text/plain": "           tid                                ttid    did  \\\n2            2  TaskType.SUPERVISED_CLASSIFICATION      2   \n3            3  TaskType.SUPERVISED_CLASSIFICATION      3   \n4            4  TaskType.SUPERVISED_CLASSIFICATION      4   \n5            5  TaskType.SUPERVISED_CLASSIFICATION      5   \n6            6  TaskType.SUPERVISED_CLASSIFICATION      6   \n...        ...                                 ...    ...   \n361141  361141  TaskType.SUPERVISED_CLASSIFICATION    128   \n361142  361142  TaskType.SUPERVISED_CLASSIFICATION    128   \n361143  361143  TaskType.SUPERVISED_CLASSIFICATION     10   \n361144  361144  TaskType.SUPERVISED_CLASSIFICATION  44344   \n361145  361145  TaskType.SUPERVISED_CLASSIFICATION  44344   \n\n                                       name                  task_type  \\\n2                                    anneal  Supervised Classification   \n3                                  kr-vs-kp  Supervised Classification   \n4                                     labor  Supervised Classification   \n5                                arrhythmia  Supervised Classification   \n6                                    letter  Supervised Classification   \n...                                     ...                        ...   \n361141  BNG(cylinder-bands,nominal,1000000)  Supervised Classification   \n361142  BNG(cylinder-bands,nominal,1000000)  Supervised Classification   \n361143                                lymph  Supervised Classification   \n361144                                 Iris  Supervised Classification   \n361145                                 Iris  Supervised Classification   \n\n        status     estimation_procedure   evaluation_measures source_data  \\\n2       active  10-fold Crossvalidation   predictive_accuracy           2   \n3       active  10-fold Crossvalidation                   NaN           3   \n4       active  10-fold Crossvalidation   predictive_accuracy           4   \n5       active  10-fold Crossvalidation   predictive_accuracy           5   \n6       active  10-fold Crossvalidation                   NaN           6   \n...        ...                      ...                   ...         ...   \n361141  active  10-fold Crossvalidation  area_under_roc_curve         128   \n361142  active  10-fold Crossvalidation   predictive_accuracy         128   \n361143  active  10-fold Crossvalidation                   NaN          10   \n361144  active  10-fold Crossvalidation                   NaN       44344   \n361145  active  10-fold Crossvalidation   predictive_accuracy       44344   \n\n       target_feature  ...  MaxNominalAttDistinctValues  MinorityClassSize  \\\n2               class  ...                          7.0                8.0   \n3               class  ...                          3.0             1527.0   \n4               class  ...                          3.0               20.0   \n5               class  ...                         13.0                2.0   \n6               class  ...                         26.0              734.0   \n...               ...  ...                          ...                ...   \n361141      ink_color  ...                        429.0           422977.0   \n361142     press_type  ...                        429.0           422977.0   \n361143          class  ...                          8.0                2.0   \n361144          class  ...                          NaN               50.0   \n361145          class  ...                          NaN               50.0   \n\n        NumberOfClasses  NumberOfFeatures  NumberOfInstances  \\\n2                   5.0              39.0              898.0   \n3                   2.0              37.0             3196.0   \n4                   2.0              17.0               57.0   \n5                  13.0             280.0              452.0   \n6                  26.0              17.0            20000.0   \n...                 ...               ...                ...   \n361141              2.0              40.0          1000000.0   \n361142              2.0              40.0          1000000.0   \n361143              4.0              19.0              148.0   \n361144              3.0               5.0              150.0   \n361145              3.0               5.0              150.0   \n\n        NumberOfInstancesWithMissingValues  NumberOfMissingValues  \\\n2                                    898.0                22175.0   \n3                                      0.0                    0.0   \n4                                     56.0                  326.0   \n5                                    384.0                  408.0   \n6                                      0.0                    0.0   \n...                                    ...                    ...   \n361141                                 0.0                    0.0   \n361142                                 0.0                    0.0   \n361143                                 0.0                    0.0   \n361144                                 0.0                    0.0   \n361145                                 0.0                    0.0   \n\n        NumberOfNumericFeatures  NumberOfSymbolicFeatures  cost_matrix  \n2                           6.0                      33.0          NaN  \n3                           0.0                      37.0          NaN  \n4                           8.0                       9.0          NaN  \n5                         206.0                      74.0          NaN  \n6                          16.0                       1.0          NaN  \n...                         ...                       ...          ...  \n361141                      0.0                      40.0          NaN  \n361142                      0.0                      40.0          NaN  \n361143                      3.0                      16.0          NaN  \n361144                      4.0                       1.0          NaN  \n361145                      4.0                       1.0          NaN  \n\n[3813 rows x 21 columns]",
      "text/html": "<div>\n<style scoped>\n    .dataframe tbody tr th:only-of-type {\n        vertical-align: middle;\n    }\n\n    .dataframe tbody tr th {\n        vertical-align: top;\n    }\n\n    .dataframe thead th {\n        text-align: right;\n    }\n</style>\n<table border=\"1\" class=\"dataframe\">\n  <thead>\n    <tr style=\"text-align: right;\">\n      <th></th>\n      <th>tid</th>\n      <th>ttid</th>\n      <th>did</th>\n      <th>name</th>\n      <th>task_type</th>\n      <th>status</th>\n      <th>estimation_procedure</th>\n      <th>evaluation_measures</th>\n      <th>source_data</th>\n      <th>target_feature</th>\n      <th>...</th>\n      <th>MaxNominalAttDistinctValues</th>\n      <th>MinorityClassSize</th>\n      <th>NumberOfClasses</th>\n      <th>NumberOfFeatures</th>\n      <th>NumberOfInstances</th>\n      <th>NumberOfInstancesWithMissingValues</th>\n      <th>NumberOfMissingValues</th>\n      <th>NumberOfNumericFeatures</th>\n      <th>NumberOfSymbolicFeatures</th>\n      <th>cost_matrix</th>\n    </tr>\n  </thead>\n  <tbody>\n    <tr>\n      <th>2</th>\n      <td>2</td>\n      <td>TaskType.SUPERVISED_CLASSIFICATION</td>\n      <td>2</td>\n      <td>anneal</td>\n      <td>Supervised Classification</td>\n      <td>active</td>\n      <td>10-fold Crossvalidation</td>\n      <td>predictive_accuracy</td>\n      <td>2</td>\n      <td>class</td>\n      <td>...</td>\n      <td>7.0</td>\n      <td>8.0</td>\n      <td>5.0</td>\n      <td>39.0</td>\n      <td>898.0</td>\n      <td>898.0</td>\n      <td>22175.0</td>\n      <td>6.0</td>\n      <td>33.0</td>\n      <td>NaN</td>\n    </tr>\n    <tr>\n      <th>3</th>\n      <td>3</td>\n      <td>TaskType.SUPERVISED_CLASSIFICATION</td>\n      <td>3</td>\n      <td>kr-vs-kp</td>\n      <td>Supervised Classification</td>\n      <td>active</td>\n      <td>10-fold Crossvalidation</td>\n      <td>NaN</td>\n      <td>3</td>\n      <td>class</td>\n      <td>...</td>\n      <td>3.0</td>\n      <td>1527.0</td>\n      <td>2.0</td>\n      <td>37.0</td>\n      <td>3196.0</td>\n      <td>0.0</td>\n      <td>0.0</td>\n      <td>0.0</td>\n      <td>37.0</td>\n      <td>NaN</td>\n    </tr>\n    <tr>\n      <th>4</th>\n      <td>4</td>\n      <td>TaskType.SUPERVISED_CLASSIFICATION</td>\n      <td>4</td>\n      <td>labor</td>\n      <td>Supervised Classification</td>\n      <td>active</td>\n      <td>10-fold Crossvalidation</td>\n      <td>predictive_accuracy</td>\n      <td>4</td>\n      <td>class</td>\n      <td>...</td>\n      <td>3.0</td>\n      <td>20.0</td>\n      <td>2.0</td>\n      <td>17.0</td>\n      <td>57.0</td>\n      <td>56.0</td>\n      <td>326.0</td>\n      <td>8.0</td>\n      <td>9.0</td>\n      <td>NaN</td>\n    </tr>\n    <tr>\n      <th>5</th>\n      <td>5</td>\n      <td>TaskType.SUPERVISED_CLASSIFICATION</td>\n      <td>5</td>\n      <td>arrhythmia</td>\n      <td>Supervised Classification</td>\n      <td>active</td>\n      <td>10-fold Crossvalidation</td>\n      <td>predictive_accuracy</td>\n      <td>5</td>\n      <td>class</td>\n      <td>...</td>\n      <td>13.0</td>\n      <td>2.0</td>\n      <td>13.0</td>\n      <td>280.0</td>\n      <td>452.0</td>\n      <td>384.0</td>\n      <td>408.0</td>\n      <td>206.0</td>\n      <td>74.0</td>\n      <td>NaN</td>\n    </tr>\n    <tr>\n      <th>6</th>\n      <td>6</td>\n      <td>TaskType.SUPERVISED_CLASSIFICATION</td>\n      <td>6</td>\n      <td>letter</td>\n      <td>Supervised Classification</td>\n      <td>active</td>\n      <td>10-fold Crossvalidation</td>\n      <td>NaN</td>\n      <td>6</td>\n      <td>class</td>\n      <td>...</td>\n      <td>26.0</td>\n      <td>734.0</td>\n      <td>26.0</td>\n      <td>17.0</td>\n      <td>20000.0</td>\n      <td>0.0</td>\n      <td>0.0</td>\n      <td>16.0</td>\n      <td>1.0</td>\n      <td>NaN</td>\n    </tr>\n    <tr>\n      <th>...</th>\n      <td>...</td>\n      <td>...</td>\n      <td>...</td>\n      <td>...</td>\n      <td>...</td>\n      <td>...</td>\n      <td>...</td>\n      <td>...</td>\n      <td>...</td>\n      <td>...</td>\n      <td>...</td>\n      <td>...</td>\n      <td>...</td>\n      <td>...</td>\n      <td>...</td>\n      <td>...</td>\n      <td>...</td>\n      <td>...</td>\n      <td>...</td>\n      <td>...</td>\n      <td>...</td>\n    </tr>\n    <tr>\n      <th>361141</th>\n      <td>361141</td>\n      <td>TaskType.SUPERVISED_CLASSIFICATION</td>\n      <td>128</td>\n      <td>BNG(cylinder-bands,nominal,1000000)</td>\n      <td>Supervised Classification</td>\n      <td>active</td>\n      <td>10-fold Crossvalidation</td>\n      <td>area_under_roc_curve</td>\n      <td>128</td>\n      <td>ink_color</td>\n      <td>...</td>\n      <td>429.0</td>\n      <td>422977.0</td>\n      <td>2.0</td>\n      <td>40.0</td>\n      <td>1000000.0</td>\n      <td>0.0</td>\n      <td>0.0</td>\n      <td>0.0</td>\n      <td>40.0</td>\n      <td>NaN</td>\n    </tr>\n    <tr>\n      <th>361142</th>\n      <td>361142</td>\n      <td>TaskType.SUPERVISED_CLASSIFICATION</td>\n      <td>128</td>\n      <td>BNG(cylinder-bands,nominal,1000000)</td>\n      <td>Supervised Classification</td>\n      <td>active</td>\n      <td>10-fold Crossvalidation</td>\n      <td>predictive_accuracy</td>\n      <td>128</td>\n      <td>press_type</td>\n      <td>...</td>\n      <td>429.0</td>\n      <td>422977.0</td>\n      <td>2.0</td>\n      <td>40.0</td>\n      <td>1000000.0</td>\n      <td>0.0</td>\n      <td>0.0</td>\n      <td>0.0</td>\n      <td>40.0</td>\n      <td>NaN</td>\n    </tr>\n    <tr>\n      <th>361143</th>\n      <td>361143</td>\n      <td>TaskType.SUPERVISED_CLASSIFICATION</td>\n      <td>10</td>\n      <td>lymph</td>\n      <td>Supervised Classification</td>\n      <td>active</td>\n      <td>10-fold Crossvalidation</td>\n      <td>NaN</td>\n      <td>10</td>\n      <td>class</td>\n      <td>...</td>\n      <td>8.0</td>\n      <td>2.0</td>\n      <td>4.0</td>\n      <td>19.0</td>\n      <td>148.0</td>\n      <td>0.0</td>\n      <td>0.0</td>\n      <td>3.0</td>\n      <td>16.0</td>\n      <td>NaN</td>\n    </tr>\n    <tr>\n      <th>361144</th>\n      <td>361144</td>\n      <td>TaskType.SUPERVISED_CLASSIFICATION</td>\n      <td>44344</td>\n      <td>Iris</td>\n      <td>Supervised Classification</td>\n      <td>active</td>\n      <td>10-fold Crossvalidation</td>\n      <td>NaN</td>\n      <td>44344</td>\n      <td>class</td>\n      <td>...</td>\n      <td>NaN</td>\n      <td>50.0</td>\n      <td>3.0</td>\n      <td>5.0</td>\n      <td>150.0</td>\n      <td>0.0</td>\n      <td>0.0</td>\n      <td>4.0</td>\n      <td>1.0</td>\n      <td>NaN</td>\n    </tr>\n    <tr>\n      <th>361145</th>\n      <td>361145</td>\n      <td>TaskType.SUPERVISED_CLASSIFICATION</td>\n      <td>44344</td>\n      <td>Iris</td>\n      <td>Supervised Classification</td>\n      <td>active</td>\n      <td>10-fold Crossvalidation</td>\n      <td>predictive_accuracy</td>\n      <td>44344</td>\n      <td>class</td>\n      <td>...</td>\n      <td>NaN</td>\n      <td>50.0</td>\n      <td>3.0</td>\n      <td>5.0</td>\n      <td>150.0</td>\n      <td>0.0</td>\n      <td>0.0</td>\n      <td>4.0</td>\n      <td>1.0</td>\n      <td>NaN</td>\n    </tr>\n  </tbody>\n</table>\n<p>3813 rows × 21 columns</p>\n</div>"
     },
     "execution_count": 285,
     "metadata": {},
     "output_type": "execute_result"
    }
   ],
   "source": [
    "df_tasks = openml.tasks.list_tasks(\n",
    "    task_type=openml.tasks.TaskType.SUPERVISED_CLASSIFICATION,\n",
    "    output_format='dataframe'\n",
    ")\n",
    "\n",
    "# unique values\n",
    "# ttid [TaskType.SUPERVISED_CLASSIFICATION]\n",
    "# task_type [Supervised Classification]\n",
    "# estimation_procedure [11 different types (CV, holdout, ...)]\n",
    "# evaluation_measures [38 different types, some are useless (run_cpu_time, ...)]\n",
    "df_tasks"
   ],
   "metadata": {
    "collapsed": false,
    "pycharm": {
     "name": "#%%\n"
    }
   }
  },
  {
   "cell_type": "code",
   "execution_count": 283,
   "outputs": [],
   "source": [
    "study = openml.study.get_study(study_id=1)\n",
    "DATASET_ID_ALLOWED = study.data"
   ],
   "metadata": {
    "collapsed": false,
    "pycharm": {
     "name": "#%%\n"
    }
   }
  },
  {
   "cell_type": "code",
   "execution_count": 374,
   "outputs": [
    {
     "data": {
      "text/plain": "       index     tid                                ttid   did  \\\n0          2       2  TaskType.SUPERVISED_CLASSIFICATION     2   \n1       1766    1766  TaskType.SUPERVISED_CLASSIFICATION     2   \n2       1882    1882  TaskType.SUPERVISED_CLASSIFICATION     2   \n3       1945    1945  TaskType.SUPERVISED_CLASSIFICATION     2   \n4       7286    7286  TaskType.SUPERVISED_CLASSIFICATION     2   \n...      ...     ...                                 ...   ...   \n1613    3954    3954  TaskType.SUPERVISED_CLASSIFICATION  1120   \n1614    4660    4660  TaskType.SUPERVISED_CLASSIFICATION  1121   \n1615  146084  146084  TaskType.SUPERVISED_CLASSIFICATION  1121   \n1616  167004  167004  TaskType.SUPERVISED_CLASSIFICATION  1121   \n1617    3955    3955  TaskType.SUPERVISED_CLASSIFICATION  1121   \n\n                name                  task_type  status  \\\n0             anneal  Supervised Classification  active   \n1             anneal  Supervised Classification  active   \n2             anneal  Supervised Classification  active   \n3             anneal  Supervised Classification  active   \n4             anneal  Supervised Classification  active   \n...              ...                        ...     ...   \n1613  MagicTelescope  Supervised Classification  active   \n1614         badges2  Supervised Classification  active   \n1615         badges2  Supervised Classification  active   \n1616         badges2  Supervised Classification  active   \n1617         badges2  Supervised Classification  active   \n\n                  estimation_procedure  evaluation_measures source_data  ...  \\\n0              10-fold Crossvalidation  predictive_accuracy           2  ...   \n1       5 times 2-fold Crossvalidation  predictive_accuracy           2  ...   \n2     10 times 10-fold Crossvalidation  predictive_accuracy           2  ...   \n3                        Leave one out  predictive_accuracy           2  ...   \n4              10-fold Crossvalidation                                2  ...   \n...                                ...                  ...         ...  ...   \n1613           10-fold Crossvalidation                             1120  ...   \n1614  10 times 10-fold Crossvalidation  predictive_accuracy        1121  ...   \n1615           10-fold Crossvalidation            precision        1121  ...   \n1616                   33% Holdout set                             1121  ...   \n1617           10-fold Crossvalidation  predictive_accuracy        1121  ...   \n\n     MaxNominalAttDistinctValues  MinorityClassSize  NumberOfClasses  \\\n0                            7.0                8.0              5.0   \n1                            7.0                8.0              5.0   \n2                            7.0                8.0              5.0   \n3                            7.0                8.0              5.0   \n4                            7.0                8.0              5.0   \n...                          ...                ...              ...   \n1613                         2.0             6688.0              2.0   \n1614                         2.0               84.0              2.0   \n1615                         2.0               84.0              2.0   \n1616                         2.0               84.0              2.0   \n1617                         2.0               84.0              2.0   \n\n      NumberOfFeatures  NumberOfInstances  NumberOfInstancesWithMissingValues  \\\n0                 39.0              898.0                               898.0   \n1                 39.0              898.0                               898.0   \n2                 39.0              898.0                               898.0   \n3                 39.0              898.0                               898.0   \n4                 39.0              898.0                               898.0   \n...                ...                ...                                 ...   \n1613              12.0            19020.0                                 0.0   \n1614              11.0              294.0                                 0.0   \n1615              11.0              294.0                                 0.0   \n1616              11.0              294.0                                 0.0   \n1617              11.0              294.0                                 0.0   \n\n      NumberOfMissingValues  NumberOfNumericFeatures  \\\n0                   22175.0                      6.0   \n1                   22175.0                      6.0   \n2                   22175.0                      6.0   \n3                   22175.0                      6.0   \n4                   22175.0                      6.0   \n...                     ...                      ...   \n1613                    0.0                     11.0   \n1614                    0.0                      7.0   \n1615                    0.0                      7.0   \n1616                    0.0                      7.0   \n1617                    0.0                      7.0   \n\n      NumberOfSymbolicFeatures  cost_matrix  \n0                         33.0               \n1                         33.0               \n2                         33.0               \n3                         33.0               \n4                         33.0    [[0,1,2]]  \n...                        ...          ...  \n1613                       1.0               \n1614                       4.0               \n1615                       4.0               \n1616                       4.0               \n1617                       4.0               \n\n[1609 rows x 22 columns]",
      "text/html": "<div>\n<style scoped>\n    .dataframe tbody tr th:only-of-type {\n        vertical-align: middle;\n    }\n\n    .dataframe tbody tr th {\n        vertical-align: top;\n    }\n\n    .dataframe thead th {\n        text-align: right;\n    }\n</style>\n<table border=\"1\" class=\"dataframe\">\n  <thead>\n    <tr style=\"text-align: right;\">\n      <th></th>\n      <th>index</th>\n      <th>tid</th>\n      <th>ttid</th>\n      <th>did</th>\n      <th>name</th>\n      <th>task_type</th>\n      <th>status</th>\n      <th>estimation_procedure</th>\n      <th>evaluation_measures</th>\n      <th>source_data</th>\n      <th>...</th>\n      <th>MaxNominalAttDistinctValues</th>\n      <th>MinorityClassSize</th>\n      <th>NumberOfClasses</th>\n      <th>NumberOfFeatures</th>\n      <th>NumberOfInstances</th>\n      <th>NumberOfInstancesWithMissingValues</th>\n      <th>NumberOfMissingValues</th>\n      <th>NumberOfNumericFeatures</th>\n      <th>NumberOfSymbolicFeatures</th>\n      <th>cost_matrix</th>\n    </tr>\n  </thead>\n  <tbody>\n    <tr>\n      <th>0</th>\n      <td>2</td>\n      <td>2</td>\n      <td>TaskType.SUPERVISED_CLASSIFICATION</td>\n      <td>2</td>\n      <td>anneal</td>\n      <td>Supervised Classification</td>\n      <td>active</td>\n      <td>10-fold Crossvalidation</td>\n      <td>predictive_accuracy</td>\n      <td>2</td>\n      <td>...</td>\n      <td>7.0</td>\n      <td>8.0</td>\n      <td>5.0</td>\n      <td>39.0</td>\n      <td>898.0</td>\n      <td>898.0</td>\n      <td>22175.0</td>\n      <td>6.0</td>\n      <td>33.0</td>\n      <td></td>\n    </tr>\n    <tr>\n      <th>1</th>\n      <td>1766</td>\n      <td>1766</td>\n      <td>TaskType.SUPERVISED_CLASSIFICATION</td>\n      <td>2</td>\n      <td>anneal</td>\n      <td>Supervised Classification</td>\n      <td>active</td>\n      <td>5 times 2-fold Crossvalidation</td>\n      <td>predictive_accuracy</td>\n      <td>2</td>\n      <td>...</td>\n      <td>7.0</td>\n      <td>8.0</td>\n      <td>5.0</td>\n      <td>39.0</td>\n      <td>898.0</td>\n      <td>898.0</td>\n      <td>22175.0</td>\n      <td>6.0</td>\n      <td>33.0</td>\n      <td></td>\n    </tr>\n    <tr>\n      <th>2</th>\n      <td>1882</td>\n      <td>1882</td>\n      <td>TaskType.SUPERVISED_CLASSIFICATION</td>\n      <td>2</td>\n      <td>anneal</td>\n      <td>Supervised Classification</td>\n      <td>active</td>\n      <td>10 times 10-fold Crossvalidation</td>\n      <td>predictive_accuracy</td>\n      <td>2</td>\n      <td>...</td>\n      <td>7.0</td>\n      <td>8.0</td>\n      <td>5.0</td>\n      <td>39.0</td>\n      <td>898.0</td>\n      <td>898.0</td>\n      <td>22175.0</td>\n      <td>6.0</td>\n      <td>33.0</td>\n      <td></td>\n    </tr>\n    <tr>\n      <th>3</th>\n      <td>1945</td>\n      <td>1945</td>\n      <td>TaskType.SUPERVISED_CLASSIFICATION</td>\n      <td>2</td>\n      <td>anneal</td>\n      <td>Supervised Classification</td>\n      <td>active</td>\n      <td>Leave one out</td>\n      <td>predictive_accuracy</td>\n      <td>2</td>\n      <td>...</td>\n      <td>7.0</td>\n      <td>8.0</td>\n      <td>5.0</td>\n      <td>39.0</td>\n      <td>898.0</td>\n      <td>898.0</td>\n      <td>22175.0</td>\n      <td>6.0</td>\n      <td>33.0</td>\n      <td></td>\n    </tr>\n    <tr>\n      <th>4</th>\n      <td>7286</td>\n      <td>7286</td>\n      <td>TaskType.SUPERVISED_CLASSIFICATION</td>\n      <td>2</td>\n      <td>anneal</td>\n      <td>Supervised Classification</td>\n      <td>active</td>\n      <td>10-fold Crossvalidation</td>\n      <td></td>\n      <td>2</td>\n      <td>...</td>\n      <td>7.0</td>\n      <td>8.0</td>\n      <td>5.0</td>\n      <td>39.0</td>\n      <td>898.0</td>\n      <td>898.0</td>\n      <td>22175.0</td>\n      <td>6.0</td>\n      <td>33.0</td>\n      <td>[[0,1,2]]</td>\n    </tr>\n    <tr>\n      <th>...</th>\n      <td>...</td>\n      <td>...</td>\n      <td>...</td>\n      <td>...</td>\n      <td>...</td>\n      <td>...</td>\n      <td>...</td>\n      <td>...</td>\n      <td>...</td>\n      <td>...</td>\n      <td>...</td>\n      <td>...</td>\n      <td>...</td>\n      <td>...</td>\n      <td>...</td>\n      <td>...</td>\n      <td>...</td>\n      <td>...</td>\n      <td>...</td>\n      <td>...</td>\n      <td>...</td>\n    </tr>\n    <tr>\n      <th>1613</th>\n      <td>3954</td>\n      <td>3954</td>\n      <td>TaskType.SUPERVISED_CLASSIFICATION</td>\n      <td>1120</td>\n      <td>MagicTelescope</td>\n      <td>Supervised Classification</td>\n      <td>active</td>\n      <td>10-fold Crossvalidation</td>\n      <td></td>\n      <td>1120</td>\n      <td>...</td>\n      <td>2.0</td>\n      <td>6688.0</td>\n      <td>2.0</td>\n      <td>12.0</td>\n      <td>19020.0</td>\n      <td>0.0</td>\n      <td>0.0</td>\n      <td>11.0</td>\n      <td>1.0</td>\n      <td></td>\n    </tr>\n    <tr>\n      <th>1614</th>\n      <td>4660</td>\n      <td>4660</td>\n      <td>TaskType.SUPERVISED_CLASSIFICATION</td>\n      <td>1121</td>\n      <td>badges2</td>\n      <td>Supervised Classification</td>\n      <td>active</td>\n      <td>10 times 10-fold Crossvalidation</td>\n      <td>predictive_accuracy</td>\n      <td>1121</td>\n      <td>...</td>\n      <td>2.0</td>\n      <td>84.0</td>\n      <td>2.0</td>\n      <td>11.0</td>\n      <td>294.0</td>\n      <td>0.0</td>\n      <td>0.0</td>\n      <td>7.0</td>\n      <td>4.0</td>\n      <td></td>\n    </tr>\n    <tr>\n      <th>1615</th>\n      <td>146084</td>\n      <td>146084</td>\n      <td>TaskType.SUPERVISED_CLASSIFICATION</td>\n      <td>1121</td>\n      <td>badges2</td>\n      <td>Supervised Classification</td>\n      <td>active</td>\n      <td>10-fold Crossvalidation</td>\n      <td>precision</td>\n      <td>1121</td>\n      <td>...</td>\n      <td>2.0</td>\n      <td>84.0</td>\n      <td>2.0</td>\n      <td>11.0</td>\n      <td>294.0</td>\n      <td>0.0</td>\n      <td>0.0</td>\n      <td>7.0</td>\n      <td>4.0</td>\n      <td></td>\n    </tr>\n    <tr>\n      <th>1616</th>\n      <td>167004</td>\n      <td>167004</td>\n      <td>TaskType.SUPERVISED_CLASSIFICATION</td>\n      <td>1121</td>\n      <td>badges2</td>\n      <td>Supervised Classification</td>\n      <td>active</td>\n      <td>33% Holdout set</td>\n      <td></td>\n      <td>1121</td>\n      <td>...</td>\n      <td>2.0</td>\n      <td>84.0</td>\n      <td>2.0</td>\n      <td>11.0</td>\n      <td>294.0</td>\n      <td>0.0</td>\n      <td>0.0</td>\n      <td>7.0</td>\n      <td>4.0</td>\n      <td></td>\n    </tr>\n    <tr>\n      <th>1617</th>\n      <td>3955</td>\n      <td>3955</td>\n      <td>TaskType.SUPERVISED_CLASSIFICATION</td>\n      <td>1121</td>\n      <td>badges2</td>\n      <td>Supervised Classification</td>\n      <td>active</td>\n      <td>10-fold Crossvalidation</td>\n      <td>predictive_accuracy</td>\n      <td>1121</td>\n      <td>...</td>\n      <td>2.0</td>\n      <td>84.0</td>\n      <td>2.0</td>\n      <td>11.0</td>\n      <td>294.0</td>\n      <td>0.0</td>\n      <td>0.0</td>\n      <td>7.0</td>\n      <td>4.0</td>\n      <td></td>\n    </tr>\n  </tbody>\n</table>\n<p>1609 rows × 22 columns</p>\n</div>"
     },
     "execution_count": 374,
     "metadata": {},
     "output_type": "execute_result"
    }
   ],
   "source": [
    "path = r\"C:\\Users\\Trogwald\\Desktop\\push_it\\AutoML\\meta_learning\\util\\\\\"\n",
    "\n",
    "df_allowed_tasks = df_tasks.loc[df_tasks['did'].isin(DATASET_ID_ALLOWED)].sort_values(by=['did']).reset_index().fillna('')\n",
    "\n",
    "df_allowed_tasks = df_allowed_tasks[\n",
    "    ~df_allowed_tasks['evaluation_measures'].str.contains('run_cpu_time') &\n",
    "    ~df_allowed_tasks['evaluation_measures'].str.contains('confusion_matrix') &\n",
    "    ~df_allowed_tasks['evaluation_measures'].str.contains('mean_absolute_error') &\n",
    "    ~df_allowed_tasks['evaluation_measures'].str.contains('root_mean_squared_error') &\n",
    "    ~df_allowed_tasks['evaluation_measures'].str.contains('c_index')\n",
    "]\n",
    "\n",
    "# save\n",
    "df_allowed_tasks.to_pickle(path+'df_allowed_tasks.pkl')\n",
    "\n",
    "# save\n",
    "ALLOWED_TASKS = df_allowed_tasks.tid.values.tolist()\n",
    "with open(path+r'ALLOWED_TASKS.pkl', 'wb') as f:\n",
    "    pickle.dump(ALLOWED_TASKS, f)\n",
    "\n",
    "# save\n",
    "did_tid = df_allowed_tasks.groupby('did')['tid'].apply(list).to_dict()\n",
    "with open(path+r'did_tid.pkl', 'wb') as f:\n",
    "    pickle.dump(did_tid, f)\n",
    "\n",
    "\n",
    "df_allowed_tasks"
   ],
   "metadata": {
    "collapsed": false,
    "pycharm": {
     "name": "#%%\n"
    }
   }
  },
  {
   "cell_type": "code",
   "execution_count": 542,
   "outputs": [
    {
     "data": {
      "text/plain": "     run_id  task_id  setup_id  flow_id  \\\n0     29163     3668       769      523   \n1    257869     3668      2054     1194   \n2     75403     3668       808      532   \n3     32073     3668       771      523   \n4     27428     3668       768      523   \n..      ...      ...       ...      ...   \n558   88249     3668      1573      397   \n559   88251     3668      1573      397   \n560  106052     3668       609      396   \n561  144957     3668       609      396   \n562  179433     3668      1844     1074   \n\n                                         flow_name  data_id       data_name  \\\n0                              weka.Bagging_J48(2)      803  delta_ailerons   \n1                   weka.RandomSubSpace_REPTree(4)      803  delta_ailerons   \n2                     weka.Bagging_RandomForest(2)      803  delta_ailerons   \n3                              weka.Bagging_J48(2)      803  delta_ailerons   \n4                              weka.Bagging_J48(2)      803  delta_ailerons   \n..                                             ...      ...             ...   \n558             weka.BayesianLogisticRegression(2)      803  delta_ailerons   \n559             weka.BayesianLogisticRegression(2)      803  delta_ailerons   \n560  weka.AdaBoostM1_BayesianLogisticRegression(2)      803  delta_ailerons   \n561  weka.AdaBoostM1_BayesianLogisticRegression(2)      803  delta_ailerons   \n562                                    weka.OLM(3)      803  delta_ailerons   \n\n                function          upload_time  uploader       uploader_name  \\\n0    predictive_accuracy  2014-10-11 02:26:03         2  Joaquin Vanschoren   \n1    predictive_accuracy  2015-03-05 08:51:27         2  Joaquin Vanschoren   \n2    predictive_accuracy  2014-12-01 06:45:44         2  Joaquin Vanschoren   \n3    predictive_accuracy  2014-10-13 17:00:54         2  Joaquin Vanschoren   \n4    predictive_accuracy  2014-10-08 15:25:01         2  Joaquin Vanschoren   \n..                   ...                  ...       ...                 ...   \n558  predictive_accuracy  2014-12-03 02:23:47         2  Joaquin Vanschoren   \n559  predictive_accuracy  2014-12-03 02:23:49         2  Joaquin Vanschoren   \n560  predictive_accuracy  2014-12-09 00:12:02         2  Joaquin Vanschoren   \n561  predictive_accuracy  2015-01-31 09:29:29         2  Joaquin Vanschoren   \n562  predictive_accuracy  2015-02-25 00:10:51         2  Joaquin Vanschoren   \n\n        value values array_data  \\\n0    0.945434   None       None   \n1    0.945294   None       None   \n2    0.945013   None       None   \n3    0.944873   None       None   \n4    0.944733   None       None   \n..        ...    ...        ...   \n558  0.469351   None       None   \n559  0.469351   None       None   \n560  0.469351   None       None   \n561  0.469351   None       None   \n562  0.377893   None       None   \n\n                                            parameters  \n0    {'weka.Bagging_J48(2)_I': '40', 'weka.Bagging_...  \n1    {'weka.REPTree(9)_M': '2', 'weka.REPTree(9)_V'...  \n2    {'weka.Bagging_RandomForest(2)_I': '10', 'weka...  \n3    {'weka.Bagging_J48(2)_I': '160', 'weka.Bagging...  \n4    {'weka.Bagging_J48(2)_I': '20', 'weka.Bagging_...  \n..                                                 ...  \n558  {'weka.BayesianLogisticRegression(2)_D': 'true...  \n559  {'weka.BayesianLogisticRegression(2)_D': 'true...  \n560  {'weka.AdaBoostM1_BayesianLogisticRegression(2...  \n561  {'weka.AdaBoostM1_BayesianLogisticRegression(2...  \n562  {'weka.OLM(3)_R': '0', 'weka.OLM(3)_C': '1', '...  \n\n[563 rows x 15 columns]",
      "text/html": "<div>\n<style scoped>\n    .dataframe tbody tr th:only-of-type {\n        vertical-align: middle;\n    }\n\n    .dataframe tbody tr th {\n        vertical-align: top;\n    }\n\n    .dataframe thead th {\n        text-align: right;\n    }\n</style>\n<table border=\"1\" class=\"dataframe\">\n  <thead>\n    <tr style=\"text-align: right;\">\n      <th></th>\n      <th>run_id</th>\n      <th>task_id</th>\n      <th>setup_id</th>\n      <th>flow_id</th>\n      <th>flow_name</th>\n      <th>data_id</th>\n      <th>data_name</th>\n      <th>function</th>\n      <th>upload_time</th>\n      <th>uploader</th>\n      <th>uploader_name</th>\n      <th>value</th>\n      <th>values</th>\n      <th>array_data</th>\n      <th>parameters</th>\n    </tr>\n  </thead>\n  <tbody>\n    <tr>\n      <th>0</th>\n      <td>29163</td>\n      <td>3668</td>\n      <td>769</td>\n      <td>523</td>\n      <td>weka.Bagging_J48(2)</td>\n      <td>803</td>\n      <td>delta_ailerons</td>\n      <td>predictive_accuracy</td>\n      <td>2014-10-11 02:26:03</td>\n      <td>2</td>\n      <td>Joaquin Vanschoren</td>\n      <td>0.945434</td>\n      <td>None</td>\n      <td>None</td>\n      <td>{'weka.Bagging_J48(2)_I': '40', 'weka.Bagging_...</td>\n    </tr>\n    <tr>\n      <th>1</th>\n      <td>257869</td>\n      <td>3668</td>\n      <td>2054</td>\n      <td>1194</td>\n      <td>weka.RandomSubSpace_REPTree(4)</td>\n      <td>803</td>\n      <td>delta_ailerons</td>\n      <td>predictive_accuracy</td>\n      <td>2015-03-05 08:51:27</td>\n      <td>2</td>\n      <td>Joaquin Vanschoren</td>\n      <td>0.945294</td>\n      <td>None</td>\n      <td>None</td>\n      <td>{'weka.REPTree(9)_M': '2', 'weka.REPTree(9)_V'...</td>\n    </tr>\n    <tr>\n      <th>2</th>\n      <td>75403</td>\n      <td>3668</td>\n      <td>808</td>\n      <td>532</td>\n      <td>weka.Bagging_RandomForest(2)</td>\n      <td>803</td>\n      <td>delta_ailerons</td>\n      <td>predictive_accuracy</td>\n      <td>2014-12-01 06:45:44</td>\n      <td>2</td>\n      <td>Joaquin Vanschoren</td>\n      <td>0.945013</td>\n      <td>None</td>\n      <td>None</td>\n      <td>{'weka.Bagging_RandomForest(2)_I': '10', 'weka...</td>\n    </tr>\n    <tr>\n      <th>3</th>\n      <td>32073</td>\n      <td>3668</td>\n      <td>771</td>\n      <td>523</td>\n      <td>weka.Bagging_J48(2)</td>\n      <td>803</td>\n      <td>delta_ailerons</td>\n      <td>predictive_accuracy</td>\n      <td>2014-10-13 17:00:54</td>\n      <td>2</td>\n      <td>Joaquin Vanschoren</td>\n      <td>0.944873</td>\n      <td>None</td>\n      <td>None</td>\n      <td>{'weka.Bagging_J48(2)_I': '160', 'weka.Bagging...</td>\n    </tr>\n    <tr>\n      <th>4</th>\n      <td>27428</td>\n      <td>3668</td>\n      <td>768</td>\n      <td>523</td>\n      <td>weka.Bagging_J48(2)</td>\n      <td>803</td>\n      <td>delta_ailerons</td>\n      <td>predictive_accuracy</td>\n      <td>2014-10-08 15:25:01</td>\n      <td>2</td>\n      <td>Joaquin Vanschoren</td>\n      <td>0.944733</td>\n      <td>None</td>\n      <td>None</td>\n      <td>{'weka.Bagging_J48(2)_I': '20', 'weka.Bagging_...</td>\n    </tr>\n    <tr>\n      <th>...</th>\n      <td>...</td>\n      <td>...</td>\n      <td>...</td>\n      <td>...</td>\n      <td>...</td>\n      <td>...</td>\n      <td>...</td>\n      <td>...</td>\n      <td>...</td>\n      <td>...</td>\n      <td>...</td>\n      <td>...</td>\n      <td>...</td>\n      <td>...</td>\n      <td>...</td>\n    </tr>\n    <tr>\n      <th>558</th>\n      <td>88249</td>\n      <td>3668</td>\n      <td>1573</td>\n      <td>397</td>\n      <td>weka.BayesianLogisticRegression(2)</td>\n      <td>803</td>\n      <td>delta_ailerons</td>\n      <td>predictive_accuracy</td>\n      <td>2014-12-03 02:23:47</td>\n      <td>2</td>\n      <td>Joaquin Vanschoren</td>\n      <td>0.469351</td>\n      <td>None</td>\n      <td>None</td>\n      <td>{'weka.BayesianLogisticRegression(2)_D': 'true...</td>\n    </tr>\n    <tr>\n      <th>559</th>\n      <td>88251</td>\n      <td>3668</td>\n      <td>1573</td>\n      <td>397</td>\n      <td>weka.BayesianLogisticRegression(2)</td>\n      <td>803</td>\n      <td>delta_ailerons</td>\n      <td>predictive_accuracy</td>\n      <td>2014-12-03 02:23:49</td>\n      <td>2</td>\n      <td>Joaquin Vanschoren</td>\n      <td>0.469351</td>\n      <td>None</td>\n      <td>None</td>\n      <td>{'weka.BayesianLogisticRegression(2)_D': 'true...</td>\n    </tr>\n    <tr>\n      <th>560</th>\n      <td>106052</td>\n      <td>3668</td>\n      <td>609</td>\n      <td>396</td>\n      <td>weka.AdaBoostM1_BayesianLogisticRegression(2)</td>\n      <td>803</td>\n      <td>delta_ailerons</td>\n      <td>predictive_accuracy</td>\n      <td>2014-12-09 00:12:02</td>\n      <td>2</td>\n      <td>Joaquin Vanschoren</td>\n      <td>0.469351</td>\n      <td>None</td>\n      <td>None</td>\n      <td>{'weka.AdaBoostM1_BayesianLogisticRegression(2...</td>\n    </tr>\n    <tr>\n      <th>561</th>\n      <td>144957</td>\n      <td>3668</td>\n      <td>609</td>\n      <td>396</td>\n      <td>weka.AdaBoostM1_BayesianLogisticRegression(2)</td>\n      <td>803</td>\n      <td>delta_ailerons</td>\n      <td>predictive_accuracy</td>\n      <td>2015-01-31 09:29:29</td>\n      <td>2</td>\n      <td>Joaquin Vanschoren</td>\n      <td>0.469351</td>\n      <td>None</td>\n      <td>None</td>\n      <td>{'weka.AdaBoostM1_BayesianLogisticRegression(2...</td>\n    </tr>\n    <tr>\n      <th>562</th>\n      <td>179433</td>\n      <td>3668</td>\n      <td>1844</td>\n      <td>1074</td>\n      <td>weka.OLM(3)</td>\n      <td>803</td>\n      <td>delta_ailerons</td>\n      <td>predictive_accuracy</td>\n      <td>2015-02-25 00:10:51</td>\n      <td>2</td>\n      <td>Joaquin Vanschoren</td>\n      <td>0.377893</td>\n      <td>None</td>\n      <td>None</td>\n      <td>{'weka.OLM(3)_R': '0', 'weka.OLM(3)_C': '1', '...</td>\n    </tr>\n  </tbody>\n</table>\n<p>563 rows × 15 columns</p>\n</div>"
     },
     "execution_count": 542,
     "metadata": {},
     "output_type": "execute_result"
    }
   ],
   "source": [
    "pd.read_pickle(r'C:\\Users\\Trogwald\\Desktop\\push_it\\AutoML\\meta_learning\\parameters_results_study1\\803\\3668.pkl')"
   ],
   "metadata": {
    "collapsed": false,
    "pycharm": {
     "name": "#%%\n"
    }
   }
  },
  {
   "cell_type": "code",
   "execution_count": 541,
   "outputs": [],
   "source": [],
   "metadata": {
    "collapsed": false,
    "pycharm": {
     "name": "#%%\n"
    }
   }
  },
  {
   "cell_type": "markdown",
   "source": [
    "# Create df_dids_for_train.pkl, df_dids_for_test.pkl (DONE)\n",
    "Some tasks were filtered out"
   ],
   "metadata": {
    "collapsed": false,
    "pycharm": {
     "name": "#%% md\n"
    }
   }
  },
  {
   "cell_type": "code",
   "execution_count": 4,
   "outputs": [],
   "source": [
    "import os\n",
    "import pandas as pd\n",
    "\n",
    "all_dids = pd.read_csv('C:\\\\Users\\\\Trogwald\\\\Desktop\\\\push_it\\\\AutoML\\\\meta_learning\\\\datasets_metafeatures\\\\study1_metafeatures.csv').Dataset_ID.values.tolist()\n",
    "all_dids = set(all_dids)\n",
    "\n",
    "did_tid = pd.read_pickle('C:\\\\Users\\\\Trogwald\\\\Desktop\\\\push_it\\\\AutoML\\\\meta_learning\\\\util\\\\did_tid.pkl')\n",
    "task_exist = []\n",
    "task_not_exist = []\n",
    "dataset_exist = []\n",
    "\n",
    "\n",
    "for did, tid_list in did_tid.items():\n",
    "    for tid in tid_list:\n",
    "        file_path = r'C:\\Users\\Trogwald\\Desktop\\push_it\\AutoML\\meta_learning\\parameters_results_study1\\\\' +\\\n",
    "          str(did) + '\\\\' + str(tid) + '.pkl'\n",
    "\n",
    "        is_exist = os.path.exists(file_path)\n",
    "        if is_exist:\n",
    "            task_exist.append(tid)\n",
    "            dataset_exist.append(did)\n",
    "        else:\n",
    "            task_not_exist.append(tid)\n",
    "\n",
    "# remove duplicates\n",
    "dataset_exist = set(dataset_exist)\n",
    "\n",
    "# datasets from Study1 that were excluded\n",
    "dataset_not_exist = all_dids - dataset_exist\n",
    "\n",
    "print('Found: '+str(len(task_exist))+' tasks')\n",
    "print('Not found: '+str(len(task_not_exist))+' tasks')\n",
    "print()\n",
    "print('Found: '+str(len(dataset_exist))+' datasets')\n",
    "print('Not found: '+str(len(dataset_not_exist))+' datasets')\n",
    "\n",
    "dataset_exist = list(dataset_exist)\n",
    "\n",
    "dataset_not_exist = list(dataset_not_exist)\n",
    "dataset_not_exist = list(map(int, dataset_not_exist))\n",
    "\n",
    "# Split dataset with meta-features into two datasets (train, test)\n",
    "all_meta_features = pd.read_csv('C:\\\\Users\\\\Trogwald\\\\Desktop\\\\push_it\\\\AutoML\\\\meta_learning\\\\datasets_metafeatures\\\\study1_metafeatures.csv')\n",
    "\n",
    "df_dids_for_train = all_meta_features.loc[all_meta_features['Dataset_ID'].isin(dataset_exist)].reset_index(drop=True)\n",
    "df_dids_for_train.to_pickle('C:\\\\Users\\\\Trogwald\\\\Desktop\\\\push_it\\\\AutoML\\\\meta_learning\\\\datasets_metafeatures\\\\df_dids_for_train.pkl')\n",
    "\n",
    "df_dids_for_test = all_meta_features.loc[all_meta_features['Dataset_ID'].isin(dataset_not_exist)].reset_index(drop=True)\n",
    "df_dids_for_test.to_pickle('C:\\\\Users\\\\Trogwald\\\\Desktop\\\\push_it\\\\AutoML\\\\meta_learning\\\\datasets_metafeatures\\\\df_dids_for_test.pkl')\n",
    "\n",
    "# Found: 1147 tasks\n",
    "# Not found: 462 tasks\n",
    "#\n",
    "# Found: 492 datasets\n",
    "# Not found: 20 datasets"
   ],
   "metadata": {
    "collapsed": false,
    "pycharm": {
     "name": "#%%\n"
    }
   }
  },
  {
   "cell_type": "code",
   "execution_count": 6,
   "outputs": [],
   "source": [
    "import pandas as pd\n",
    "\n",
    "path = r'C:\\Users\\Trogwald\\Desktop\\push_it\\AutoML\\meta_learning\\datasets_metafeatures\\\\'"
   ],
   "metadata": {
    "collapsed": false,
    "pycharm": {
     "name": "#%%\n"
    }
   }
  },
  {
   "cell_type": "code",
   "execution_count": 7,
   "outputs": [
    {
     "data": {
      "text/plain": "    Dataset_ID  attr_conc.mean  attr_conc.sd  attr_ent.mean  attr_ent.sd  \\\n0            1        0.146323      0.211739       0.594684     0.718035   \n1           21        0.035447      0.024917       1.756476     0.225072   \n2           33        0.094721      0.146011       1.939635     1.451148   \n3          173        0.048322      0.061941       1.066713     0.718662   \n4          174        0.095927      0.146472       1.125760     0.786316   \n5          292        0.048602      0.112406       1.453460     0.743584   \n6          314        0.056228      0.135874       0.781595     0.992375   \n7          345        0.205794      0.220456       1.127917     0.668793   \n8          449        0.056272      0.148770       1.728665     0.813161   \n9          460        0.063159      0.033059       1.675431     0.323976   \n10         478        0.083708      0.130497       2.508872     0.620187   \n11         809        0.140196      0.184542       1.384541     0.821987   \n12         822        0.144968      0.183722       1.998905     0.002090   \n13         872        0.155285      0.101560       1.975178     0.655671   \n14         948        0.037382      0.016406       1.578693     0.009311   \n15        1036        0.087777      0.185542       0.736189     1.179118   \n16        1043        0.099715      0.183532       0.553227     0.631166   \n17        1074        0.094258      0.109173       1.912920     0.156345   \n18        1118        0.089340      0.031116       2.514367     0.652568   \n19       41078        0.360954      0.196614       1.562083     0.042295   \n\n    attr_to_inst  best_node.mean  best_node.sd        c1        c2  ...  \\\n0       0.097436        0.835897      0.013241  0.501116  0.651332  ...   \n1       0.085714        0.557143      0.125085  0.625003  0.435842  ...   \n2       0.097436        0.687179      0.058968  0.976635  0.062420  ...   \n3       0.092308        0.961538      0.040542  0.235193  0.920128  ...   \n4       0.092308        0.984615      0.032434  0.082059  0.976568  ...   \n5       0.093333             NaN           NaN  0.953197  0.120615  ...   \n6       0.096667        0.923333      0.016102  0.390324  0.835072  ...   \n7       0.578947        0.925000      0.064550  0.301210  0.872328  ...   \n8       0.159509        0.608088      0.042033  0.555043  0.419845  ...   \n9       0.087500        0.512500      0.181142  0.919732  0.088554  ...   \n10      0.095455        0.300000      0.023473  0.933747  0.028946  ...   \n11      0.095652        0.886957      0.074465  0.999127  0.002417  ...   \n12      0.088889        0.777778      0.138580  0.948078  0.132780  ...   \n13      0.092857        0.850000      0.071031  0.951763  0.124043  ...   \n14      0.075000        0.675000      0.120761  0.998196  0.004988  ...   \n15      0.216000        0.933000      0.014181  0.369644  0.848035  ...   \n16      0.097959        0.791837      0.031616  0.789568  0.434117  ...   \n17      0.135802        0.705556      0.172580  0.857818  0.211174  ...   \n18      0.085714        0.242857      0.135526  0.862242  0.068222  ...   \n19      0.080000        0.720000      0.103280  0.993999  0.009174  ...   \n\n    tree_shape.mean  tree_shape.sd      var.mean        var.sd  \\\n0          0.097392       0.140615  7.503905e+04  5.019701e+05   \n1          0.133185       0.123415  1.943711e-01  3.351337e-02   \n2          0.063186       0.107013  1.822471e+05  3.567739e+06   \n3          0.193115       0.157842  1.306566e-01  8.001143e-02   \n4          0.322917       0.158935  1.127982e-01  8.462555e-02   \n5               NaN            NaN  3.604349e-01  3.876424e-01   \n6          0.263021       0.134219  2.046849e+02  6.139778e+02   \n7          0.375000       0.125000  1.111382e-01  8.546541e-02   \n8          0.078619       0.128836  1.690356e+02  6.578257e+02   \n9          0.095877       0.097970  1.446562e-01  5.792059e-02   \n10         0.133325       0.184024  1.240189e+00  4.288070e+00   \n11         0.260937       0.181292  1.051877e-01  8.765219e-02   \n12         0.208984       0.141763  5.049967e+05  9.920480e+05   \n13         0.226042       0.129470  2.021242e+03  6.870640e+03   \n14         0.240625       0.136653  8.297427e+03  6.592854e+03   \n15         0.270833       0.112542  5.179594e+03  1.566342e+04   \n16         0.038204       0.072406  1.599870e+03  5.043954e+03   \n17         0.206414       0.098040  1.783742e+06  5.884292e+06   \n18         0.087695       0.123493  1.188465e-01  4.609321e-02   \n19         0.437500       0.072169  1.238362e+00  1.405914e+00   \n\n    var_importance.mean  var_importance.sd        vdb      w_lambda  \\\n0              0.020408           0.049704   6.759387  9.789569e-09   \n1              0.062500           0.061533   3.333819  1.520450e-01   \n2              0.002597           0.012949  25.327024  1.542899e-02   \n3              0.037037           0.060900   3.212116  7.115824e-01   \n4              0.031250           0.099145   0.822880  4.743425e-09   \n5                   NaN                NaN   2.279478  3.670578e-01   \n6              0.031250           0.098243   4.249827  7.061180e-01   \n7              0.008130           0.046636   2.605408  2.958228e-31   \n8              0.019608           0.034621   8.430600  3.117793e-11   \n9              0.045455           0.032916   4.971468  1.608518e-01   \n10             0.029412           0.044378   3.164568  0.000000e+00   \n11             0.011905           0.071363   2.706045  1.998401e-15   \n12             0.125000           0.130206   3.075497  5.461909e-01   \n13             0.047619           0.134352   1.846888  3.716786e-01   \n14             0.333333           0.242280   5.048080  8.605450e-01   \n15             0.004630           0.041509   3.354940  2.561915e-01   \n16             0.020833           0.042099   2.742788  6.513068e-01   \n17             0.090909           0.121541   7.421870  4.300071e-01   \n18             0.028571           0.019761   2.825374  4.155648e-06   \n19             0.250000           0.260733   0.746302  1.597488e-02   \n\n    worst_node.mean  worst_node.sd  \n0          0.782051       0.018131  \n1          0.600000       0.112687  \n2          0.594872       0.016217  \n3          0.961538       0.040542  \n4          0.984615       0.032434  \n5               NaN            NaN  \n6          0.923333       0.016102  \n7          0.925000       0.064550  \n8          0.644485       0.052683  \n9          0.387500       0.039528  \n10         0.231818       0.025802  \n11         0.508696       0.029346  \n12         0.633333       0.053672  \n13         0.714286       0.134687  \n14         0.600000       0.129099  \n15         0.930000       0.004714  \n16         0.763265       0.017210  \n17         0.543056       0.083449  \n18         0.214286       0.075292  \n19         0.600000       0.133333  \n\n[20 rows x 133 columns]",
      "text/html": "<div>\n<style scoped>\n    .dataframe tbody tr th:only-of-type {\n        vertical-align: middle;\n    }\n\n    .dataframe tbody tr th {\n        vertical-align: top;\n    }\n\n    .dataframe thead th {\n        text-align: right;\n    }\n</style>\n<table border=\"1\" class=\"dataframe\">\n  <thead>\n    <tr style=\"text-align: right;\">\n      <th></th>\n      <th>Dataset_ID</th>\n      <th>attr_conc.mean</th>\n      <th>attr_conc.sd</th>\n      <th>attr_ent.mean</th>\n      <th>attr_ent.sd</th>\n      <th>attr_to_inst</th>\n      <th>best_node.mean</th>\n      <th>best_node.sd</th>\n      <th>c1</th>\n      <th>c2</th>\n      <th>...</th>\n      <th>tree_shape.mean</th>\n      <th>tree_shape.sd</th>\n      <th>var.mean</th>\n      <th>var.sd</th>\n      <th>var_importance.mean</th>\n      <th>var_importance.sd</th>\n      <th>vdb</th>\n      <th>w_lambda</th>\n      <th>worst_node.mean</th>\n      <th>worst_node.sd</th>\n    </tr>\n  </thead>\n  <tbody>\n    <tr>\n      <th>0</th>\n      <td>1</td>\n      <td>0.146323</td>\n      <td>0.211739</td>\n      <td>0.594684</td>\n      <td>0.718035</td>\n      <td>0.097436</td>\n      <td>0.835897</td>\n      <td>0.013241</td>\n      <td>0.501116</td>\n      <td>0.651332</td>\n      <td>...</td>\n      <td>0.097392</td>\n      <td>0.140615</td>\n      <td>7.503905e+04</td>\n      <td>5.019701e+05</td>\n      <td>0.020408</td>\n      <td>0.049704</td>\n      <td>6.759387</td>\n      <td>9.789569e-09</td>\n      <td>0.782051</td>\n      <td>0.018131</td>\n    </tr>\n    <tr>\n      <th>1</th>\n      <td>21</td>\n      <td>0.035447</td>\n      <td>0.024917</td>\n      <td>1.756476</td>\n      <td>0.225072</td>\n      <td>0.085714</td>\n      <td>0.557143</td>\n      <td>0.125085</td>\n      <td>0.625003</td>\n      <td>0.435842</td>\n      <td>...</td>\n      <td>0.133185</td>\n      <td>0.123415</td>\n      <td>1.943711e-01</td>\n      <td>3.351337e-02</td>\n      <td>0.062500</td>\n      <td>0.061533</td>\n      <td>3.333819</td>\n      <td>1.520450e-01</td>\n      <td>0.600000</td>\n      <td>0.112687</td>\n    </tr>\n    <tr>\n      <th>2</th>\n      <td>33</td>\n      <td>0.094721</td>\n      <td>0.146011</td>\n      <td>1.939635</td>\n      <td>1.451148</td>\n      <td>0.097436</td>\n      <td>0.687179</td>\n      <td>0.058968</td>\n      <td>0.976635</td>\n      <td>0.062420</td>\n      <td>...</td>\n      <td>0.063186</td>\n      <td>0.107013</td>\n      <td>1.822471e+05</td>\n      <td>3.567739e+06</td>\n      <td>0.002597</td>\n      <td>0.012949</td>\n      <td>25.327024</td>\n      <td>1.542899e-02</td>\n      <td>0.594872</td>\n      <td>0.016217</td>\n    </tr>\n    <tr>\n      <th>3</th>\n      <td>173</td>\n      <td>0.048322</td>\n      <td>0.061941</td>\n      <td>1.066713</td>\n      <td>0.718662</td>\n      <td>0.092308</td>\n      <td>0.961538</td>\n      <td>0.040542</td>\n      <td>0.235193</td>\n      <td>0.920128</td>\n      <td>...</td>\n      <td>0.193115</td>\n      <td>0.157842</td>\n      <td>1.306566e-01</td>\n      <td>8.001143e-02</td>\n      <td>0.037037</td>\n      <td>0.060900</td>\n      <td>3.212116</td>\n      <td>7.115824e-01</td>\n      <td>0.961538</td>\n      <td>0.040542</td>\n    </tr>\n    <tr>\n      <th>4</th>\n      <td>174</td>\n      <td>0.095927</td>\n      <td>0.146472</td>\n      <td>1.125760</td>\n      <td>0.786316</td>\n      <td>0.092308</td>\n      <td>0.984615</td>\n      <td>0.032434</td>\n      <td>0.082059</td>\n      <td>0.976568</td>\n      <td>...</td>\n      <td>0.322917</td>\n      <td>0.158935</td>\n      <td>1.127982e-01</td>\n      <td>8.462555e-02</td>\n      <td>0.031250</td>\n      <td>0.099145</td>\n      <td>0.822880</td>\n      <td>4.743425e-09</td>\n      <td>0.984615</td>\n      <td>0.032434</td>\n    </tr>\n    <tr>\n      <th>5</th>\n      <td>292</td>\n      <td>0.048602</td>\n      <td>0.112406</td>\n      <td>1.453460</td>\n      <td>0.743584</td>\n      <td>0.093333</td>\n      <td>NaN</td>\n      <td>NaN</td>\n      <td>0.953197</td>\n      <td>0.120615</td>\n      <td>...</td>\n      <td>NaN</td>\n      <td>NaN</td>\n      <td>3.604349e-01</td>\n      <td>3.876424e-01</td>\n      <td>NaN</td>\n      <td>NaN</td>\n      <td>2.279478</td>\n      <td>3.670578e-01</td>\n      <td>NaN</td>\n      <td>NaN</td>\n    </tr>\n    <tr>\n      <th>6</th>\n      <td>314</td>\n      <td>0.056228</td>\n      <td>0.135874</td>\n      <td>0.781595</td>\n      <td>0.992375</td>\n      <td>0.096667</td>\n      <td>0.923333</td>\n      <td>0.016102</td>\n      <td>0.390324</td>\n      <td>0.835072</td>\n      <td>...</td>\n      <td>0.263021</td>\n      <td>0.134219</td>\n      <td>2.046849e+02</td>\n      <td>6.139778e+02</td>\n      <td>0.031250</td>\n      <td>0.098243</td>\n      <td>4.249827</td>\n      <td>7.061180e-01</td>\n      <td>0.923333</td>\n      <td>0.016102</td>\n    </tr>\n    <tr>\n      <th>7</th>\n      <td>345</td>\n      <td>0.205794</td>\n      <td>0.220456</td>\n      <td>1.127917</td>\n      <td>0.668793</td>\n      <td>0.578947</td>\n      <td>0.925000</td>\n      <td>0.064550</td>\n      <td>0.301210</td>\n      <td>0.872328</td>\n      <td>...</td>\n      <td>0.375000</td>\n      <td>0.125000</td>\n      <td>1.111382e-01</td>\n      <td>8.546541e-02</td>\n      <td>0.008130</td>\n      <td>0.046636</td>\n      <td>2.605408</td>\n      <td>2.958228e-31</td>\n      <td>0.925000</td>\n      <td>0.064550</td>\n    </tr>\n    <tr>\n      <th>8</th>\n      <td>449</td>\n      <td>0.056272</td>\n      <td>0.148770</td>\n      <td>1.728665</td>\n      <td>0.813161</td>\n      <td>0.159509</td>\n      <td>0.608088</td>\n      <td>0.042033</td>\n      <td>0.555043</td>\n      <td>0.419845</td>\n      <td>...</td>\n      <td>0.078619</td>\n      <td>0.128836</td>\n      <td>1.690356e+02</td>\n      <td>6.578257e+02</td>\n      <td>0.019608</td>\n      <td>0.034621</td>\n      <td>8.430600</td>\n      <td>3.117793e-11</td>\n      <td>0.644485</td>\n      <td>0.052683</td>\n    </tr>\n    <tr>\n      <th>9</th>\n      <td>460</td>\n      <td>0.063159</td>\n      <td>0.033059</td>\n      <td>1.675431</td>\n      <td>0.323976</td>\n      <td>0.087500</td>\n      <td>0.512500</td>\n      <td>0.181142</td>\n      <td>0.919732</td>\n      <td>0.088554</td>\n      <td>...</td>\n      <td>0.095877</td>\n      <td>0.097970</td>\n      <td>1.446562e-01</td>\n      <td>5.792059e-02</td>\n      <td>0.045455</td>\n      <td>0.032916</td>\n      <td>4.971468</td>\n      <td>1.608518e-01</td>\n      <td>0.387500</td>\n      <td>0.039528</td>\n    </tr>\n    <tr>\n      <th>10</th>\n      <td>478</td>\n      <td>0.083708</td>\n      <td>0.130497</td>\n      <td>2.508872</td>\n      <td>0.620187</td>\n      <td>0.095455</td>\n      <td>0.300000</td>\n      <td>0.023473</td>\n      <td>0.933747</td>\n      <td>0.028946</td>\n      <td>...</td>\n      <td>0.133325</td>\n      <td>0.184024</td>\n      <td>1.240189e+00</td>\n      <td>4.288070e+00</td>\n      <td>0.029412</td>\n      <td>0.044378</td>\n      <td>3.164568</td>\n      <td>0.000000e+00</td>\n      <td>0.231818</td>\n      <td>0.025802</td>\n    </tr>\n    <tr>\n      <th>11</th>\n      <td>809</td>\n      <td>0.140196</td>\n      <td>0.184542</td>\n      <td>1.384541</td>\n      <td>0.821987</td>\n      <td>0.095652</td>\n      <td>0.886957</td>\n      <td>0.074465</td>\n      <td>0.999127</td>\n      <td>0.002417</td>\n      <td>...</td>\n      <td>0.260937</td>\n      <td>0.181292</td>\n      <td>1.051877e-01</td>\n      <td>8.765219e-02</td>\n      <td>0.011905</td>\n      <td>0.071363</td>\n      <td>2.706045</td>\n      <td>1.998401e-15</td>\n      <td>0.508696</td>\n      <td>0.029346</td>\n    </tr>\n    <tr>\n      <th>12</th>\n      <td>822</td>\n      <td>0.144968</td>\n      <td>0.183722</td>\n      <td>1.998905</td>\n      <td>0.002090</td>\n      <td>0.088889</td>\n      <td>0.777778</td>\n      <td>0.138580</td>\n      <td>0.948078</td>\n      <td>0.132780</td>\n      <td>...</td>\n      <td>0.208984</td>\n      <td>0.141763</td>\n      <td>5.049967e+05</td>\n      <td>9.920480e+05</td>\n      <td>0.125000</td>\n      <td>0.130206</td>\n      <td>3.075497</td>\n      <td>5.461909e-01</td>\n      <td>0.633333</td>\n      <td>0.053672</td>\n    </tr>\n    <tr>\n      <th>13</th>\n      <td>872</td>\n      <td>0.155285</td>\n      <td>0.101560</td>\n      <td>1.975178</td>\n      <td>0.655671</td>\n      <td>0.092857</td>\n      <td>0.850000</td>\n      <td>0.071031</td>\n      <td>0.951763</td>\n      <td>0.124043</td>\n      <td>...</td>\n      <td>0.226042</td>\n      <td>0.129470</td>\n      <td>2.021242e+03</td>\n      <td>6.870640e+03</td>\n      <td>0.047619</td>\n      <td>0.134352</td>\n      <td>1.846888</td>\n      <td>3.716786e-01</td>\n      <td>0.714286</td>\n      <td>0.134687</td>\n    </tr>\n    <tr>\n      <th>14</th>\n      <td>948</td>\n      <td>0.037382</td>\n      <td>0.016406</td>\n      <td>1.578693</td>\n      <td>0.009311</td>\n      <td>0.075000</td>\n      <td>0.675000</td>\n      <td>0.120761</td>\n      <td>0.998196</td>\n      <td>0.004988</td>\n      <td>...</td>\n      <td>0.240625</td>\n      <td>0.136653</td>\n      <td>8.297427e+03</td>\n      <td>6.592854e+03</td>\n      <td>0.333333</td>\n      <td>0.242280</td>\n      <td>5.048080</td>\n      <td>8.605450e-01</td>\n      <td>0.600000</td>\n      <td>0.129099</td>\n    </tr>\n    <tr>\n      <th>15</th>\n      <td>1036</td>\n      <td>0.087777</td>\n      <td>0.185542</td>\n      <td>0.736189</td>\n      <td>1.179118</td>\n      <td>0.216000</td>\n      <td>0.933000</td>\n      <td>0.014181</td>\n      <td>0.369644</td>\n      <td>0.848035</td>\n      <td>...</td>\n      <td>0.270833</td>\n      <td>0.112542</td>\n      <td>5.179594e+03</td>\n      <td>1.566342e+04</td>\n      <td>0.004630</td>\n      <td>0.041509</td>\n      <td>3.354940</td>\n      <td>2.561915e-01</td>\n      <td>0.930000</td>\n      <td>0.004714</td>\n    </tr>\n    <tr>\n      <th>16</th>\n      <td>1043</td>\n      <td>0.099715</td>\n      <td>0.183532</td>\n      <td>0.553227</td>\n      <td>0.631166</td>\n      <td>0.097959</td>\n      <td>0.791837</td>\n      <td>0.031616</td>\n      <td>0.789568</td>\n      <td>0.434117</td>\n      <td>...</td>\n      <td>0.038204</td>\n      <td>0.072406</td>\n      <td>1.599870e+03</td>\n      <td>5.043954e+03</td>\n      <td>0.020833</td>\n      <td>0.042099</td>\n      <td>2.742788</td>\n      <td>6.513068e-01</td>\n      <td>0.763265</td>\n      <td>0.017210</td>\n    </tr>\n    <tr>\n      <th>17</th>\n      <td>1074</td>\n      <td>0.094258</td>\n      <td>0.109173</td>\n      <td>1.912920</td>\n      <td>0.156345</td>\n      <td>0.135802</td>\n      <td>0.705556</td>\n      <td>0.172580</td>\n      <td>0.857818</td>\n      <td>0.211174</td>\n      <td>...</td>\n      <td>0.206414</td>\n      <td>0.098040</td>\n      <td>1.783742e+06</td>\n      <td>5.884292e+06</td>\n      <td>0.090909</td>\n      <td>0.121541</td>\n      <td>7.421870</td>\n      <td>4.300071e-01</td>\n      <td>0.543056</td>\n      <td>0.083449</td>\n    </tr>\n    <tr>\n      <th>18</th>\n      <td>1118</td>\n      <td>0.089340</td>\n      <td>0.031116</td>\n      <td>2.514367</td>\n      <td>0.652568</td>\n      <td>0.085714</td>\n      <td>0.242857</td>\n      <td>0.135526</td>\n      <td>0.862242</td>\n      <td>0.068222</td>\n      <td>...</td>\n      <td>0.087695</td>\n      <td>0.123493</td>\n      <td>1.188465e-01</td>\n      <td>4.609321e-02</td>\n      <td>0.028571</td>\n      <td>0.019761</td>\n      <td>2.825374</td>\n      <td>4.155648e-06</td>\n      <td>0.214286</td>\n      <td>0.075292</td>\n    </tr>\n    <tr>\n      <th>19</th>\n      <td>41078</td>\n      <td>0.360954</td>\n      <td>0.196614</td>\n      <td>1.562083</td>\n      <td>0.042295</td>\n      <td>0.080000</td>\n      <td>0.720000</td>\n      <td>0.103280</td>\n      <td>0.993999</td>\n      <td>0.009174</td>\n      <td>...</td>\n      <td>0.437500</td>\n      <td>0.072169</td>\n      <td>1.238362e+00</td>\n      <td>1.405914e+00</td>\n      <td>0.250000</td>\n      <td>0.260733</td>\n      <td>0.746302</td>\n      <td>1.597488e-02</td>\n      <td>0.600000</td>\n      <td>0.133333</td>\n    </tr>\n  </tbody>\n</table>\n<p>20 rows × 133 columns</p>\n</div>"
     },
     "execution_count": 7,
     "metadata": {},
     "output_type": "execute_result"
    }
   ],
   "source": [
    "pd.read_pickle(path+'df_dids_for_test.pkl')"
   ],
   "metadata": {
    "collapsed": false,
    "pycharm": {
     "name": "#%%\n"
    }
   }
  },
  {
   "cell_type": "code",
   "execution_count": 8,
   "outputs": [
    {
     "data": {
      "text/plain": "     Dataset_ID  attr_conc.mean  attr_conc.sd  attr_ent.mean   attr_ent.sd  \\\n0             2        0.146323      0.211739       0.594684  7.180354e-01   \n1             3        0.063681      0.145646       0.566778  3.518098e-01   \n2             4        0.080232      0.092995       1.424929  4.091965e-01   \n3             5        0.061211      0.146104       1.381685  1.266458e+00   \n4             6        0.054407      0.060078       2.121566  2.392388e-01   \n..          ...             ...           ...            ...           ...   \n487        1116        0.119479      0.053265       3.110805  2.861727e-01   \n488        1117        0.094258      0.109173       1.912920  1.563455e-01   \n489        1119        0.071253      0.121629       1.699977  9.431405e-01   \n490        1120        0.157807      0.127196       1.999762  2.340556e-16   \n491        1121        0.091380      0.210738       1.343420  5.175849e-01   \n\n     attr_to_inst  best_node.mean  best_node.sd        c1        c2  ...  \\\n0        0.097436        0.835897      0.013241  0.501116  0.651332  ...   \n1        0.097297        0.629730      0.051042  0.997891  0.005827  ...   \n2        0.280702        0.840000      0.125511  0.934849  0.163369  ...   \n3        0.617257        0.597101      0.033827  0.648946  0.353360  ...   \n4        0.094118        0.123529      0.043404  0.982120  0.004984  ...   \n..            ...             ...           ...       ...       ...  ...   \n487      0.167000        0.890000      0.017638  0.602282  0.665275  ...   \n488      0.135802        0.705556      0.172580  0.857818  0.211174  ...   \n489      0.093333        0.700000      0.047140  0.855451  0.324397  ...   \n490      0.090909        0.763636      0.106708  0.945660  0.138462  ...   \n491      0.090909        1.000000      0.000000  0.991398  0.023522  ...   \n\n     tree_shape.mean  tree_shape.sd      var.mean        var.sd  \\\n0           0.097392       0.140615  7.503905e+04  5.019701e+05   \n1           0.098330       0.117758  1.326031e-01  8.426717e-02   \n2           0.281250       0.178609  6.518634e+00  2.632104e+01   \n3           0.054380       0.078759  1.639804e+02  3.905662e+02   \n4           0.050000       0.086874  5.552415e+00  2.094882e+00   \n..               ...            ...           ...           ...   \n487         0.098906       0.143024  5.363676e+03  4.715700e+03   \n488         0.206414       0.098040  1.783742e+06  5.884292e+06   \n489         0.142216       0.119599  1.777990e+08  1.408437e+09   \n490         0.201823       0.130708  1.363715e+03  1.788431e+03   \n491         0.500000       0.000000  1.896483e+00  3.411488e+00   \n\n     var_importance.mean  var_importance.sd       vdb      w_lambda  \\\n0               0.020408           0.049704  6.759387  9.789569e-09   \n1               0.027778           0.063705  5.607630  3.499563e-01   \n2               0.033333           0.091373  3.008230  1.748755e-01   \n3               0.003690           0.012834  3.979135  6.281995e-10   \n4               0.062500           0.045930  2.805844  2.098956e-04   \n..                   ...                ...       ...           ...   \n487             0.004115           0.020404  4.823410  2.886580e-15   \n488             0.090909           0.121541  7.421870  4.300071e-01   \n489             0.015385           0.046013  3.376386  4.078779e-01   \n490             0.100000           0.105464  4.510724  6.370966e-01   \n491             0.090909           0.301511  5.791893  1.998401e-15   \n\n     worst_node.mean  worst_node.sd  \n0           0.782051       0.018131  \n1           0.521622       0.052608  \n2           0.596667       0.107094  \n3           0.544251       0.010484  \n4           0.094118       0.041130  \n..               ...            ...  \n487         0.853000       0.004830  \n488         0.543056       0.083449  \n489         0.720000       0.028109  \n490         0.654545       0.083540  \n491         0.545455       0.042855  \n\n[492 rows x 133 columns]",
      "text/html": "<div>\n<style scoped>\n    .dataframe tbody tr th:only-of-type {\n        vertical-align: middle;\n    }\n\n    .dataframe tbody tr th {\n        vertical-align: top;\n    }\n\n    .dataframe thead th {\n        text-align: right;\n    }\n</style>\n<table border=\"1\" class=\"dataframe\">\n  <thead>\n    <tr style=\"text-align: right;\">\n      <th></th>\n      <th>Dataset_ID</th>\n      <th>attr_conc.mean</th>\n      <th>attr_conc.sd</th>\n      <th>attr_ent.mean</th>\n      <th>attr_ent.sd</th>\n      <th>attr_to_inst</th>\n      <th>best_node.mean</th>\n      <th>best_node.sd</th>\n      <th>c1</th>\n      <th>c2</th>\n      <th>...</th>\n      <th>tree_shape.mean</th>\n      <th>tree_shape.sd</th>\n      <th>var.mean</th>\n      <th>var.sd</th>\n      <th>var_importance.mean</th>\n      <th>var_importance.sd</th>\n      <th>vdb</th>\n      <th>w_lambda</th>\n      <th>worst_node.mean</th>\n      <th>worst_node.sd</th>\n    </tr>\n  </thead>\n  <tbody>\n    <tr>\n      <th>0</th>\n      <td>2</td>\n      <td>0.146323</td>\n      <td>0.211739</td>\n      <td>0.594684</td>\n      <td>7.180354e-01</td>\n      <td>0.097436</td>\n      <td>0.835897</td>\n      <td>0.013241</td>\n      <td>0.501116</td>\n      <td>0.651332</td>\n      <td>...</td>\n      <td>0.097392</td>\n      <td>0.140615</td>\n      <td>7.503905e+04</td>\n      <td>5.019701e+05</td>\n      <td>0.020408</td>\n      <td>0.049704</td>\n      <td>6.759387</td>\n      <td>9.789569e-09</td>\n      <td>0.782051</td>\n      <td>0.018131</td>\n    </tr>\n    <tr>\n      <th>1</th>\n      <td>3</td>\n      <td>0.063681</td>\n      <td>0.145646</td>\n      <td>0.566778</td>\n      <td>3.518098e-01</td>\n      <td>0.097297</td>\n      <td>0.629730</td>\n      <td>0.051042</td>\n      <td>0.997891</td>\n      <td>0.005827</td>\n      <td>...</td>\n      <td>0.098330</td>\n      <td>0.117758</td>\n      <td>1.326031e-01</td>\n      <td>8.426717e-02</td>\n      <td>0.027778</td>\n      <td>0.063705</td>\n      <td>5.607630</td>\n      <td>3.499563e-01</td>\n      <td>0.521622</td>\n      <td>0.052608</td>\n    </tr>\n    <tr>\n      <th>2</th>\n      <td>4</td>\n      <td>0.080232</td>\n      <td>0.092995</td>\n      <td>1.424929</td>\n      <td>4.091965e-01</td>\n      <td>0.280702</td>\n      <td>0.840000</td>\n      <td>0.125511</td>\n      <td>0.934849</td>\n      <td>0.163369</td>\n      <td>...</td>\n      <td>0.281250</td>\n      <td>0.178609</td>\n      <td>6.518634e+00</td>\n      <td>2.632104e+01</td>\n      <td>0.033333</td>\n      <td>0.091373</td>\n      <td>3.008230</td>\n      <td>1.748755e-01</td>\n      <td>0.596667</td>\n      <td>0.107094</td>\n    </tr>\n    <tr>\n      <th>3</th>\n      <td>5</td>\n      <td>0.061211</td>\n      <td>0.146104</td>\n      <td>1.381685</td>\n      <td>1.266458e+00</td>\n      <td>0.617257</td>\n      <td>0.597101</td>\n      <td>0.033827</td>\n      <td>0.648946</td>\n      <td>0.353360</td>\n      <td>...</td>\n      <td>0.054380</td>\n      <td>0.078759</td>\n      <td>1.639804e+02</td>\n      <td>3.905662e+02</td>\n      <td>0.003690</td>\n      <td>0.012834</td>\n      <td>3.979135</td>\n      <td>6.281995e-10</td>\n      <td>0.544251</td>\n      <td>0.010484</td>\n    </tr>\n    <tr>\n      <th>4</th>\n      <td>6</td>\n      <td>0.054407</td>\n      <td>0.060078</td>\n      <td>2.121566</td>\n      <td>2.392388e-01</td>\n      <td>0.094118</td>\n      <td>0.123529</td>\n      <td>0.043404</td>\n      <td>0.982120</td>\n      <td>0.004984</td>\n      <td>...</td>\n      <td>0.050000</td>\n      <td>0.086874</td>\n      <td>5.552415e+00</td>\n      <td>2.094882e+00</td>\n      <td>0.062500</td>\n      <td>0.045930</td>\n      <td>2.805844</td>\n      <td>2.098956e-04</td>\n      <td>0.094118</td>\n      <td>0.041130</td>\n    </tr>\n    <tr>\n      <th>...</th>\n      <td>...</td>\n      <td>...</td>\n      <td>...</td>\n      <td>...</td>\n      <td>...</td>\n      <td>...</td>\n      <td>...</td>\n      <td>...</td>\n      <td>...</td>\n      <td>...</td>\n      <td>...</td>\n      <td>...</td>\n      <td>...</td>\n      <td>...</td>\n      <td>...</td>\n      <td>...</td>\n      <td>...</td>\n      <td>...</td>\n      <td>...</td>\n      <td>...</td>\n      <td>...</td>\n    </tr>\n    <tr>\n      <th>487</th>\n      <td>1116</td>\n      <td>0.119479</td>\n      <td>0.053265</td>\n      <td>3.110805</td>\n      <td>2.861727e-01</td>\n      <td>0.167000</td>\n      <td>0.890000</td>\n      <td>0.017638</td>\n      <td>0.602282</td>\n      <td>0.665275</td>\n      <td>...</td>\n      <td>0.098906</td>\n      <td>0.143024</td>\n      <td>5.363676e+03</td>\n      <td>4.715700e+03</td>\n      <td>0.004115</td>\n      <td>0.020404</td>\n      <td>4.823410</td>\n      <td>2.886580e-15</td>\n      <td>0.853000</td>\n      <td>0.004830</td>\n    </tr>\n    <tr>\n      <th>488</th>\n      <td>1117</td>\n      <td>0.094258</td>\n      <td>0.109173</td>\n      <td>1.912920</td>\n      <td>1.563455e-01</td>\n      <td>0.135802</td>\n      <td>0.705556</td>\n      <td>0.172580</td>\n      <td>0.857818</td>\n      <td>0.211174</td>\n      <td>...</td>\n      <td>0.206414</td>\n      <td>0.098040</td>\n      <td>1.783742e+06</td>\n      <td>5.884292e+06</td>\n      <td>0.090909</td>\n      <td>0.121541</td>\n      <td>7.421870</td>\n      <td>4.300071e-01</td>\n      <td>0.543056</td>\n      <td>0.083449</td>\n    </tr>\n    <tr>\n      <th>489</th>\n      <td>1119</td>\n      <td>0.071253</td>\n      <td>0.121629</td>\n      <td>1.699977</td>\n      <td>9.431405e-01</td>\n      <td>0.093333</td>\n      <td>0.700000</td>\n      <td>0.047140</td>\n      <td>0.855451</td>\n      <td>0.324397</td>\n      <td>...</td>\n      <td>0.142216</td>\n      <td>0.119599</td>\n      <td>1.777990e+08</td>\n      <td>1.408437e+09</td>\n      <td>0.015385</td>\n      <td>0.046013</td>\n      <td>3.376386</td>\n      <td>4.078779e-01</td>\n      <td>0.720000</td>\n      <td>0.028109</td>\n    </tr>\n    <tr>\n      <th>490</th>\n      <td>1120</td>\n      <td>0.157807</td>\n      <td>0.127196</td>\n      <td>1.999762</td>\n      <td>2.340556e-16</td>\n      <td>0.090909</td>\n      <td>0.763636</td>\n      <td>0.106708</td>\n      <td>0.945660</td>\n      <td>0.138462</td>\n      <td>...</td>\n      <td>0.201823</td>\n      <td>0.130708</td>\n      <td>1.363715e+03</td>\n      <td>1.788431e+03</td>\n      <td>0.100000</td>\n      <td>0.105464</td>\n      <td>4.510724</td>\n      <td>6.370966e-01</td>\n      <td>0.654545</td>\n      <td>0.083540</td>\n    </tr>\n    <tr>\n      <th>491</th>\n      <td>1121</td>\n      <td>0.091380</td>\n      <td>0.210738</td>\n      <td>1.343420</td>\n      <td>5.175849e-01</td>\n      <td>0.090909</td>\n      <td>1.000000</td>\n      <td>0.000000</td>\n      <td>0.991398</td>\n      <td>0.023522</td>\n      <td>...</td>\n      <td>0.500000</td>\n      <td>0.000000</td>\n      <td>1.896483e+00</td>\n      <td>3.411488e+00</td>\n      <td>0.090909</td>\n      <td>0.301511</td>\n      <td>5.791893</td>\n      <td>1.998401e-15</td>\n      <td>0.545455</td>\n      <td>0.042855</td>\n    </tr>\n  </tbody>\n</table>\n<p>492 rows × 133 columns</p>\n</div>"
     },
     "execution_count": 8,
     "metadata": {},
     "output_type": "execute_result"
    }
   ],
   "source": [
    "pd.read_pickle(path+'df_dids_for_train.pkl')"
   ],
   "metadata": {
    "collapsed": false,
    "pycharm": {
     "name": "#%%\n"
    }
   }
  },
  {
   "cell_type": "code",
   "execution_count": 541,
   "outputs": [],
   "source": [],
   "metadata": {
    "collapsed": false,
    "pycharm": {
     "name": "#%%\n"
    }
   }
  },
  {
   "cell_type": "code",
   "execution_count": 1,
   "outputs": [],
   "source": [
    "from AutoML.meta_learning.EvalParserAdaBoost import get_params_adaboost\n",
    "from AutoML.meta_learning.util.utils import get_nearest_dids\n",
    "import openml\n",
    "import numpy as np\n",
    "import pandas as pd\n",
    "import pickle\n",
    "import json"
   ],
   "metadata": {
    "collapsed": false,
    "pycharm": {
     "name": "#%%\n"
    }
   }
  },
  {
   "cell_type": "code",
   "execution_count": 2,
   "outputs": [
    {
     "data": {
      "text/plain": "        run_id  task_id  setup_id  flow_id  \\\n0     10160806        2   8086270     9689   \n1      1860456        2     36565     5909   \n2      5950015        2   3984760     6970   \n3      5950070        2   3984815     6970   \n4      4855681        2   2891090     6970   \n...        ...      ...       ...      ...   \n3601   5930403        2   3965152     6970   \n3602   5956713        2   3991454     6970   \n3603   6043409        2   4078067     6952   \n3604   4970024        2   3005421     6970   \n3605   6059830        2   4075685     7026   \n\n                                              flow_name  data_id data_name  \\\n0     sklearn.pipeline.Pipeline(imputer=sklearn.prep...        2    anneal   \n1     sklearn.pipeline.Pipeline(imputer=sklearn.prep...        2    anneal   \n2     sklearn.pipeline.Pipeline(imputation=openmlstu...        2    anneal   \n3     sklearn.pipeline.Pipeline(imputation=openmlstu...        2    anneal   \n4     sklearn.pipeline.Pipeline(imputation=openmlstu...        2    anneal   \n...                                                 ...      ...       ...   \n3601  sklearn.pipeline.Pipeline(imputation=openmlstu...        2    anneal   \n3602  sklearn.pipeline.Pipeline(imputation=openmlstu...        2    anneal   \n3603  sklearn.pipeline.Pipeline(imputation=openmlstu...        2    anneal   \n3604  sklearn.pipeline.Pipeline(imputation=openmlstu...        2    anneal   \n3605  sklearn.pipeline.Pipeline(Median-Imputer=sklea...        2    anneal   \n\n                 function          upload_time  uploader    uploader_name  \\\n0     predictive_accuracy  2019-04-13 06:09:08      8420              T I   \n1     predictive_accuracy  2017-03-27 22:32:43      1022     Randal Olson   \n2     predictive_accuracy  2017-07-14 15:39:47         1     Jan van Rijn   \n3     predictive_accuracy  2017-07-14 15:43:34         1     Jan van Rijn   \n4     predictive_accuracy  2017-07-08 06:43:16         1     Jan van Rijn   \n...                   ...                  ...       ...              ...   \n3601  predictive_accuracy  2017-07-14 01:15:43         1     Jan van Rijn   \n3602  predictive_accuracy  2017-07-14 23:11:06         1     Jan van Rijn   \n3603  predictive_accuracy  2017-07-24 23:10:11         1     Jan van Rijn   \n3604  predictive_accuracy  2017-07-08 19:09:37         1     Jan van Rijn   \n3605  predictive_accuracy  2017-08-02 15:06:52       869  Pieter Gijsbers   \n\n         value values array_data  \\\n0     0.991091   None       None   \n1     0.983296   None       None   \n2     0.963252   None       None   \n3     0.962138   None       None   \n4     0.961024   None       None   \n...        ...    ...        ...   \n3601  0.685969   None       None   \n3602  0.685969   None       None   \n3603  0.672606   None       None   \n3604  0.669265   None       None   \n3605  0.389755   None       None   \n\n                                             parameters  \n0     {'sklearn.pipeline.Pipeline(imputer=sklearn.pr...  \n1     {'sklearn.ensemble.forest.RandomForestClassifi...  \n2     {'sklearn.tree.tree.DecisionTreeClassifier(10)...  \n3     {'sklearn.tree.tree.DecisionTreeClassifier(10)...  \n4     {'sklearn.tree.tree.DecisionTreeClassifier(10)...  \n...                                                 ...  \n3601  {'sklearn.tree.tree.DecisionTreeClassifier(10)...  \n3602  {'sklearn.tree.tree.DecisionTreeClassifier(10)...  \n3603  {'openmlstudy14.preprocessing.ConditionalImput...  \n3604  {'sklearn.tree.tree.DecisionTreeClassifier(10)...  \n3605  {'sklearn.preprocessing.imputation.Imputer(5)_...  \n\n[3606 rows x 15 columns]",
      "text/html": "<div>\n<style scoped>\n    .dataframe tbody tr th:only-of-type {\n        vertical-align: middle;\n    }\n\n    .dataframe tbody tr th {\n        vertical-align: top;\n    }\n\n    .dataframe thead th {\n        text-align: right;\n    }\n</style>\n<table border=\"1\" class=\"dataframe\">\n  <thead>\n    <tr style=\"text-align: right;\">\n      <th></th>\n      <th>run_id</th>\n      <th>task_id</th>\n      <th>setup_id</th>\n      <th>flow_id</th>\n      <th>flow_name</th>\n      <th>data_id</th>\n      <th>data_name</th>\n      <th>function</th>\n      <th>upload_time</th>\n      <th>uploader</th>\n      <th>uploader_name</th>\n      <th>value</th>\n      <th>values</th>\n      <th>array_data</th>\n      <th>parameters</th>\n    </tr>\n  </thead>\n  <tbody>\n    <tr>\n      <th>0</th>\n      <td>10160806</td>\n      <td>2</td>\n      <td>8086270</td>\n      <td>9689</td>\n      <td>sklearn.pipeline.Pipeline(imputer=sklearn.prep...</td>\n      <td>2</td>\n      <td>anneal</td>\n      <td>predictive_accuracy</td>\n      <td>2019-04-13 06:09:08</td>\n      <td>8420</td>\n      <td>T I</td>\n      <td>0.991091</td>\n      <td>None</td>\n      <td>None</td>\n      <td>{'sklearn.pipeline.Pipeline(imputer=sklearn.pr...</td>\n    </tr>\n    <tr>\n      <th>1</th>\n      <td>1860456</td>\n      <td>2</td>\n      <td>36565</td>\n      <td>5909</td>\n      <td>sklearn.pipeline.Pipeline(imputer=sklearn.prep...</td>\n      <td>2</td>\n      <td>anneal</td>\n      <td>predictive_accuracy</td>\n      <td>2017-03-27 22:32:43</td>\n      <td>1022</td>\n      <td>Randal Olson</td>\n      <td>0.983296</td>\n      <td>None</td>\n      <td>None</td>\n      <td>{'sklearn.ensemble.forest.RandomForestClassifi...</td>\n    </tr>\n    <tr>\n      <th>2</th>\n      <td>5950015</td>\n      <td>2</td>\n      <td>3984760</td>\n      <td>6970</td>\n      <td>sklearn.pipeline.Pipeline(imputation=openmlstu...</td>\n      <td>2</td>\n      <td>anneal</td>\n      <td>predictive_accuracy</td>\n      <td>2017-07-14 15:39:47</td>\n      <td>1</td>\n      <td>Jan van Rijn</td>\n      <td>0.963252</td>\n      <td>None</td>\n      <td>None</td>\n      <td>{'sklearn.tree.tree.DecisionTreeClassifier(10)...</td>\n    </tr>\n    <tr>\n      <th>3</th>\n      <td>5950070</td>\n      <td>2</td>\n      <td>3984815</td>\n      <td>6970</td>\n      <td>sklearn.pipeline.Pipeline(imputation=openmlstu...</td>\n      <td>2</td>\n      <td>anneal</td>\n      <td>predictive_accuracy</td>\n      <td>2017-07-14 15:43:34</td>\n      <td>1</td>\n      <td>Jan van Rijn</td>\n      <td>0.962138</td>\n      <td>None</td>\n      <td>None</td>\n      <td>{'sklearn.tree.tree.DecisionTreeClassifier(10)...</td>\n    </tr>\n    <tr>\n      <th>4</th>\n      <td>4855681</td>\n      <td>2</td>\n      <td>2891090</td>\n      <td>6970</td>\n      <td>sklearn.pipeline.Pipeline(imputation=openmlstu...</td>\n      <td>2</td>\n      <td>anneal</td>\n      <td>predictive_accuracy</td>\n      <td>2017-07-08 06:43:16</td>\n      <td>1</td>\n      <td>Jan van Rijn</td>\n      <td>0.961024</td>\n      <td>None</td>\n      <td>None</td>\n      <td>{'sklearn.tree.tree.DecisionTreeClassifier(10)...</td>\n    </tr>\n    <tr>\n      <th>...</th>\n      <td>...</td>\n      <td>...</td>\n      <td>...</td>\n      <td>...</td>\n      <td>...</td>\n      <td>...</td>\n      <td>...</td>\n      <td>...</td>\n      <td>...</td>\n      <td>...</td>\n      <td>...</td>\n      <td>...</td>\n      <td>...</td>\n      <td>...</td>\n      <td>...</td>\n    </tr>\n    <tr>\n      <th>3601</th>\n      <td>5930403</td>\n      <td>2</td>\n      <td>3965152</td>\n      <td>6970</td>\n      <td>sklearn.pipeline.Pipeline(imputation=openmlstu...</td>\n      <td>2</td>\n      <td>anneal</td>\n      <td>predictive_accuracy</td>\n      <td>2017-07-14 01:15:43</td>\n      <td>1</td>\n      <td>Jan van Rijn</td>\n      <td>0.685969</td>\n      <td>None</td>\n      <td>None</td>\n      <td>{'sklearn.tree.tree.DecisionTreeClassifier(10)...</td>\n    </tr>\n    <tr>\n      <th>3602</th>\n      <td>5956713</td>\n      <td>2</td>\n      <td>3991454</td>\n      <td>6970</td>\n      <td>sklearn.pipeline.Pipeline(imputation=openmlstu...</td>\n      <td>2</td>\n      <td>anneal</td>\n      <td>predictive_accuracy</td>\n      <td>2017-07-14 23:11:06</td>\n      <td>1</td>\n      <td>Jan van Rijn</td>\n      <td>0.685969</td>\n      <td>None</td>\n      <td>None</td>\n      <td>{'sklearn.tree.tree.DecisionTreeClassifier(10)...</td>\n    </tr>\n    <tr>\n      <th>3603</th>\n      <td>6043409</td>\n      <td>2</td>\n      <td>4078067</td>\n      <td>6952</td>\n      <td>sklearn.pipeline.Pipeline(imputation=openmlstu...</td>\n      <td>2</td>\n      <td>anneal</td>\n      <td>predictive_accuracy</td>\n      <td>2017-07-24 23:10:11</td>\n      <td>1</td>\n      <td>Jan van Rijn</td>\n      <td>0.672606</td>\n      <td>None</td>\n      <td>None</td>\n      <td>{'openmlstudy14.preprocessing.ConditionalImput...</td>\n    </tr>\n    <tr>\n      <th>3604</th>\n      <td>4970024</td>\n      <td>2</td>\n      <td>3005421</td>\n      <td>6970</td>\n      <td>sklearn.pipeline.Pipeline(imputation=openmlstu...</td>\n      <td>2</td>\n      <td>anneal</td>\n      <td>predictive_accuracy</td>\n      <td>2017-07-08 19:09:37</td>\n      <td>1</td>\n      <td>Jan van Rijn</td>\n      <td>0.669265</td>\n      <td>None</td>\n      <td>None</td>\n      <td>{'sklearn.tree.tree.DecisionTreeClassifier(10)...</td>\n    </tr>\n    <tr>\n      <th>3605</th>\n      <td>6059830</td>\n      <td>2</td>\n      <td>4075685</td>\n      <td>7026</td>\n      <td>sklearn.pipeline.Pipeline(Median-Imputer=sklea...</td>\n      <td>2</td>\n      <td>anneal</td>\n      <td>predictive_accuracy</td>\n      <td>2017-08-02 15:06:52</td>\n      <td>869</td>\n      <td>Pieter Gijsbers</td>\n      <td>0.389755</td>\n      <td>None</td>\n      <td>None</td>\n      <td>{'sklearn.preprocessing.imputation.Imputer(5)_...</td>\n    </tr>\n  </tbody>\n</table>\n<p>3606 rows × 15 columns</p>\n</div>"
     },
     "execution_count": 2,
     "metadata": {},
     "output_type": "execute_result"
    }
   ],
   "source": [
    "# Test data (20 samples from OpenML)\n",
    "dqt = r'C:\\Users\\Trogwald\\Desktop\\push_it\\AutoML\\meta_learning\\datasets_metafeatures\\df_dids_for_test.pkl'\n",
    "datasets_qualities_test = pd.read_pickle(dqt)\n",
    "X_test = datasets_qualities_test.drop('Dataset_ID', axis=1).values\n",
    "metafeatures = X_test[1]\n",
    "\n",
    "n = 10\n",
    "p_type = 'all'  # options 'automl, 'all'\n",
    "closest_dids = get_nearest_dids(metafeatures)\n",
    "\n",
    "df_hps = get_params_adaboost(2, 2, 10)\n",
    "df_hps"
   ],
   "metadata": {
    "collapsed": false,
    "pycharm": {
     "name": "#%%\n"
    }
   }
  },
  {
   "cell_type": "code",
   "execution_count": 13,
   "outputs": [
    {
     "data": {
      "text/plain": "{'sklearn.ensemble.weight_boosting.AdaBoostClassifier(base_estimator=sklearn.tree.tree.DecisionTreeClassifier)(2)_algorithm': '\"SAMME\"',\n 'sklearn.ensemble.weight_boosting.AdaBoostClassifier(base_estimator=sklearn.tree.tree.DecisionTreeClassifier)(2)_learning_rate': '0.6933486293410185',\n 'sklearn.ensemble.weight_boosting.AdaBoostClassifier(base_estimator=sklearn.tree.tree.DecisionTreeClassifier)(2)_n_estimators': '262',\n 'sklearn.ensemble.weight_boosting.AdaBoostClassifier(base_estimator=sklearn.tree.tree.DecisionTreeClassifier)(2)_random_state': '14888'}"
     },
     "execution_count": 13,
     "metadata": {},
     "output_type": "execute_result"
    }
   ],
   "source": [
    "mydict = df_hps['parameters'].values[318]\n",
    "\n",
    "foodict = {k: v for k, v in mydict.items() if k.startswith('sklearn.ensemble.weight_boosting.AdaBoostClassifier')}\n",
    "foodict"
   ],
   "metadata": {
    "collapsed": false,
    "pycharm": {
     "name": "#%%\n"
    }
   }
  },
  {
   "cell_type": "code",
   "execution_count": 15,
   "outputs": [
    {
     "data": {
      "text/plain": "{'sklearn.tree.tree.DecisionTreeClassifier(10)_class_weight': 'null',\n 'sklearn.tree.tree.DecisionTreeClassifier(10)_criterion': '\"gini\"',\n 'sklearn.tree.tree.DecisionTreeClassifier(10)_max_depth': '4',\n 'sklearn.tree.tree.DecisionTreeClassifier(10)_max_features': 'null',\n 'sklearn.tree.tree.DecisionTreeClassifier(10)_max_leaf_nodes': 'null',\n 'sklearn.tree.tree.DecisionTreeClassifier(10)_min_impurity_split': '1e-07',\n 'sklearn.tree.tree.DecisionTreeClassifier(10)_min_samples_leaf': '1',\n 'sklearn.tree.tree.DecisionTreeClassifier(10)_min_samples_split': '2',\n 'sklearn.tree.tree.DecisionTreeClassifier(10)_min_weight_fraction_leaf': '0.0',\n 'sklearn.tree.tree.DecisionTreeClassifier(10)_presort': 'false',\n 'sklearn.tree.tree.DecisionTreeClassifier(10)_random_state': '52408',\n 'sklearn.tree.tree.DecisionTreeClassifier(10)_splitter': '\"best\"',\n 'openmlstudy14.preprocessing.ConditionalImputer(2)_axis': '0',\n 'openmlstudy14.preprocessing.ConditionalImputer(2)_categorical_features': '[0, 1, 2, 5, 6, 7, 9, 10, 11, 12, 13, 14, 15, 16, 17, 18, 19, 20, 21, 22, 23, 24, 25, 26, 27, 28, 29, 30, 31, 35, 36, 37]',\n 'openmlstudy14.preprocessing.ConditionalImputer(2)_copy': 'true',\n 'openmlstudy14.preprocessing.ConditionalImputer(2)_fill_empty': '0',\n 'openmlstudy14.preprocessing.ConditionalImputer(2)_missing_values': '\"NaN\"',\n 'openmlstudy14.preprocessing.ConditionalImputer(2)_strategy': '\"most_frequent\"',\n 'openmlstudy14.preprocessing.ConditionalImputer(2)_strategy_nominal': '\"most_frequent\"',\n 'openmlstudy14.preprocessing.ConditionalImputer(2)_verbose': '0',\n 'sklearn.preprocessing.data.OneHotEncoder(7)_categorical_features': '[0, 1, 2, 5, 6, 7, 9, 10, 11, 12, 13, 14, 15, 16, 17, 18, 19, 20, 21, 22, 23, 24, 25, 26, 27, 28, 29, 30, 31, 35, 36, 37]',\n 'sklearn.preprocessing.data.OneHotEncoder(7)_dtype': '{\"oml-python:serialized_object\": \"type\", \"value\": \"np.float64\"}',\n 'sklearn.preprocessing.data.OneHotEncoder(7)_handle_unknown': '\"ignore\"',\n 'sklearn.preprocessing.data.OneHotEncoder(7)_n_values': '\"auto\"',\n 'sklearn.preprocessing.data.OneHotEncoder(7)_sparse': 'false',\n 'sklearn.feature_selection.variance_threshold.VarianceThreshold(4)_threshold': '0.0',\n 'sklearn.ensemble.weight_boosting.AdaBoostClassifier(base_estimator=sklearn.tree.tree.DecisionTreeClassifier)(2)_algorithm': '\"SAMME\"',\n 'sklearn.ensemble.weight_boosting.AdaBoostClassifier(base_estimator=sklearn.tree.tree.DecisionTreeClassifier)(2)_learning_rate': '0.6933486293410185',\n 'sklearn.ensemble.weight_boosting.AdaBoostClassifier(base_estimator=sklearn.tree.tree.DecisionTreeClassifier)(2)_n_estimators': '262',\n 'sklearn.ensemble.weight_boosting.AdaBoostClassifier(base_estimator=sklearn.tree.tree.DecisionTreeClassifier)(2)_random_state': '14888'}"
     },
     "execution_count": 15,
     "metadata": {},
     "output_type": "execute_result"
    }
   ],
   "source": [
    "df_hps.values[318][2]"
   ],
   "metadata": {
    "collapsed": false,
    "pycharm": {
     "name": "#%%\n"
    }
   }
  },
  {
   "cell_type": "code",
   "execution_count": null,
   "outputs": [],
   "source": [],
   "metadata": {
    "collapsed": false,
    "pycharm": {
     "name": "#%%\n"
    }
   }
  }
 ],
 "metadata": {
  "kernelspec": {
   "display_name": "Python 3 (ipykernel)",
   "language": "python",
   "name": "python3"
  },
  "language_info": {
   "codemirror_mode": {
    "name": "ipython",
    "version": 3
   },
   "file_extension": ".py",
   "mimetype": "text/x-python",
   "name": "python",
   "nbconvert_exporter": "python",
   "pygments_lexer": "ipython3",
   "version": "3.8.14"
  }
 },
 "nbformat": 4,
 "nbformat_minor": 5
}